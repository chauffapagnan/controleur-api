{
 "cells": [
  {
   "metadata": {},
   "cell_type": "markdown",
   "source": "",
   "id": "34c1961551ae9a53"
  },
  {
   "metadata": {
    "ExecuteTime": {
     "end_time": "2024-05-26T18:15:32.501164Z",
     "start_time": "2024-05-26T18:15:32.490621Z"
    }
   },
   "cell_type": "code",
   "source": [
    "import random\n",
    "import pandas as pd\n",
    "import numpy as np\n",
    "from datetime import datetime\n",
    "\n",
    "# Générer des dates de décembre 2021 à mars 2024\n",
    "dates = pd.date_range(start='2021-12-01', end='2024-03-31', freq='D')\n"
   ],
   "id": "82d16505501493ab",
   "outputs": [],
   "execution_count": 23
  },
  {
   "metadata": {
    "ExecuteTime": {
     "end_time": "2024-05-26T18:15:32.514126Z",
     "start_time": "2024-05-26T18:15:32.504164Z"
    }
   },
   "cell_type": "code",
   "source": [
    "# Définir les saisons\n",
    "saisons = {\n",
    "    \"hiver\": {\"tmin\": 2, \"tmax\": 9, \"probarain\": 70, \"sun_hours\": 2},\n",
    "    \"printemps\": {\"tmin\": 6, \"tmax\": 16, \"probarain\": 50, \"sun_hours\": 6},\n",
    "    \"été\": {\"tmin\": 12, \"tmax\": 22, \"probarain\": 30, \"sun_hours\": 8},\n",
    "    \"automne\": {\"tmin\": 6, \"tmax\": 15, \"probarain\": 60, \"sun_hours\": 4}\n",
    "}\n",
    "\n",
    "# Fonction pour obtenir la saison à partir de la date\n",
    "def get_saison(date):\n",
    "    if date.month in [12, 1, 2]:\n",
    "        return \"hiver\"\n",
    "    elif date.month in [3, 4, 5]:\n",
    "        return \"printemps\"\n",
    "    elif date.month in [6, 7, 8]:\n",
    "        return \"été\"\n",
    "    else:\n",
    "        return \"automne\"\n",
    "\n",
    "# Fonction pour simuler les données météorologiques pour une date donnée\n",
    "def simuler_meteo(date):\n",
    "    saison = get_saison(date)\n",
    "    valeurs_saison = saisons[saison]\n",
    "    tmin = np.random.randint(valeurs_saison[\"tmin\"] - 2, valeurs_saison[\"tmin\"] + 2)\n",
    "    tmax = np.random.randint(valeurs_saison[\"tmax\"] - 2, valeurs_saison[\"tmax\"] + 2)\n",
    "    probarain = np.random.randint(valeurs_saison[\"probarain\"] - 10, valeurs_saison[\"probarain\"] + 10)\n",
    "    sun_hours = np.random.randint(valeurs_saison[\"sun_hours\"] - 2, valeurs_saison[\"sun_hours\"] + 2)\n",
    "    return tmin, tmax, probarain, sun_hours\n"
   ],
   "id": "600340c2bfd2dc49",
   "outputs": [],
   "execution_count": 24
  },
  {
   "metadata": {
    "ExecuteTime": {
     "end_time": "2024-05-26T18:15:32.523423Z",
     "start_time": "2024-05-26T18:15:32.516084Z"
    }
   },
   "cell_type": "code",
   "source": [
    "# Fonction pour simuler les données d'énergie produite par le chauffage cannette\n",
    "def simuler_energie(date):\n",
    "    saison = get_saison(date)\n",
    "    if saison == \"hiver\":\n",
    "        return np.random.randint(15, 21)\n",
    "    elif saison == \"printemps\":\n",
    "        return np.random.randint(18, 24)\n",
    "    elif saison == \"été\":\n",
    "        return np.random.randint(20, 26)\n",
    "    else:\n",
    "        return np.random.randint(16, 22)\n"
   ],
   "id": "391cdac2d8e1f597",
   "outputs": [],
   "execution_count": 25
  },
  {
   "metadata": {
    "ExecuteTime": {
     "end_time": "2024-05-26T18:17:06.027725Z",
     "start_time": "2024-05-26T18:17:05.001994Z"
    }
   },
   "cell_type": "code",
   "source": [
    "# Simuler les données météorologiques pour chaque date\n",
    "donnees_meteo = []\n",
    "for date in dates:\n",
    "    energie = simuler_energie(date)\n",
    "    tmin, tmax, probarain, sun_hours = simuler_meteo(date)\n",
    "    donnees_meteo.append({\n",
    "        \"datetime\": date,\n",
    "        \"tmin\": tmin,\n",
    "        \"tmax\": tmax,\n",
    "        \"probarain\": probarain,\n",
    "        \"sun_hours\": sun_hours,\n",
    "        \"energie\": energie\n",
    "    })\n",
    "\n",
    "# Créer un DataFrame à partir des données météorologiques simulées\n",
    "df_train = pd.DataFrame(donnees_meteo)\n",
    "\n",
    "# Afficher un échantillon des données météorologiques simulées\n",
    "print(\"Échantillon des données météorologiques simulées :\")"
   ],
   "id": "70fa7aa14404c187",
   "outputs": [
    {
     "ename": "TypeError",
     "evalue": "Index(...) must be called with a collection of some kind, False was passed",
     "output_type": "error",
     "traceback": [
      "\u001B[1;31m---------------------------------------------------------------------------\u001B[0m",
      "\u001B[1;31mTypeError\u001B[0m                                 Traceback (most recent call last)",
      "Cell \u001B[1;32mIn[36], line 16\u001B[0m\n\u001B[0;32m      6\u001B[0m     donnees_meteo\u001B[38;5;241m.\u001B[39mappend({\n\u001B[0;32m      7\u001B[0m         \u001B[38;5;124m\"\u001B[39m\u001B[38;5;124mdatetime\u001B[39m\u001B[38;5;124m\"\u001B[39m: date,\n\u001B[0;32m      8\u001B[0m         \u001B[38;5;124m\"\u001B[39m\u001B[38;5;124mtmin\u001B[39m\u001B[38;5;124m\"\u001B[39m: tmin,\n\u001B[1;32m   (...)\u001B[0m\n\u001B[0;32m     12\u001B[0m         \u001B[38;5;124m\"\u001B[39m\u001B[38;5;124menergie\u001B[39m\u001B[38;5;124m\"\u001B[39m: energie\n\u001B[0;32m     13\u001B[0m     })\n\u001B[0;32m     15\u001B[0m \u001B[38;5;66;03m# Créer un DataFrame à partir des données météorologiques simulées\u001B[39;00m\n\u001B[1;32m---> 16\u001B[0m df_train \u001B[38;5;241m=\u001B[39m \u001B[43mpd\u001B[49m\u001B[38;5;241;43m.\u001B[39;49m\u001B[43mDataFrame\u001B[49m\u001B[43m(\u001B[49m\u001B[43mdonnees_meteo\u001B[49m\u001B[43m,\u001B[49m\u001B[43m \u001B[49m\u001B[43mindex\u001B[49m\u001B[38;5;241;43m=\u001B[39;49m\u001B[38;5;28;43;01mFalse\u001B[39;49;00m\u001B[43m)\u001B[49m\n\u001B[0;32m     18\u001B[0m \u001B[38;5;66;03m# Afficher un échantillon des données météorologiques simulées\u001B[39;00m\n\u001B[0;32m     19\u001B[0m \u001B[38;5;28mprint\u001B[39m(\u001B[38;5;124m\"\u001B[39m\u001B[38;5;124mÉchantillon des données météorologiques simulées :\u001B[39m\u001B[38;5;124m\"\u001B[39m)\n",
      "File \u001B[1;32m~\\AppData\\Roaming\\Python\\Python311\\site-packages\\pandas\\core\\frame.py:790\u001B[0m, in \u001B[0;36mDataFrame.__init__\u001B[1;34m(self, data, index, columns, dtype, copy)\u001B[0m\n\u001B[0;32m    781\u001B[0m         columns \u001B[38;5;241m=\u001B[39m ensure_index(columns)\n\u001B[0;32m    782\u001B[0m     arrays, columns, index \u001B[38;5;241m=\u001B[39m nested_data_to_arrays(\n\u001B[0;32m    783\u001B[0m         \u001B[38;5;66;03m# error: Argument 3 to \"nested_data_to_arrays\" has incompatible\u001B[39;00m\n\u001B[0;32m    784\u001B[0m         \u001B[38;5;66;03m# type \"Optional[Collection[Any]]\"; expected \"Optional[Index]\"\u001B[39;00m\n\u001B[1;32m   (...)\u001B[0m\n\u001B[0;32m    788\u001B[0m         dtype,\n\u001B[0;32m    789\u001B[0m     )\n\u001B[1;32m--> 790\u001B[0m     mgr \u001B[38;5;241m=\u001B[39m \u001B[43marrays_to_mgr\u001B[49m\u001B[43m(\u001B[49m\n\u001B[0;32m    791\u001B[0m \u001B[43m        \u001B[49m\u001B[43marrays\u001B[49m\u001B[43m,\u001B[49m\n\u001B[0;32m    792\u001B[0m \u001B[43m        \u001B[49m\u001B[43mcolumns\u001B[49m\u001B[43m,\u001B[49m\n\u001B[0;32m    793\u001B[0m \u001B[43m        \u001B[49m\u001B[43mindex\u001B[49m\u001B[43m,\u001B[49m\n\u001B[0;32m    794\u001B[0m \u001B[43m        \u001B[49m\u001B[43mdtype\u001B[49m\u001B[38;5;241;43m=\u001B[39;49m\u001B[43mdtype\u001B[49m\u001B[43m,\u001B[49m\n\u001B[0;32m    795\u001B[0m \u001B[43m        \u001B[49m\u001B[43mtyp\u001B[49m\u001B[38;5;241;43m=\u001B[39;49m\u001B[43mmanager\u001B[49m\u001B[43m,\u001B[49m\n\u001B[0;32m    796\u001B[0m \u001B[43m    \u001B[49m\u001B[43m)\u001B[49m\n\u001B[0;32m    797\u001B[0m \u001B[38;5;28;01melse\u001B[39;00m:\n\u001B[0;32m    798\u001B[0m     mgr \u001B[38;5;241m=\u001B[39m ndarray_to_mgr(\n\u001B[0;32m    799\u001B[0m         data,\n\u001B[0;32m    800\u001B[0m         index,\n\u001B[1;32m   (...)\u001B[0m\n\u001B[0;32m    804\u001B[0m         typ\u001B[38;5;241m=\u001B[39mmanager,\n\u001B[0;32m    805\u001B[0m     )\n",
      "File \u001B[1;32m~\\AppData\\Roaming\\Python\\Python311\\site-packages\\pandas\\core\\internals\\construction.py:117\u001B[0m, in \u001B[0;36marrays_to_mgr\u001B[1;34m(arrays, columns, index, dtype, verify_integrity, typ, consolidate)\u001B[0m\n\u001B[0;32m    115\u001B[0m     index \u001B[38;5;241m=\u001B[39m _extract_index(arrays)\n\u001B[0;32m    116\u001B[0m \u001B[38;5;28;01melse\u001B[39;00m:\n\u001B[1;32m--> 117\u001B[0m     index \u001B[38;5;241m=\u001B[39m \u001B[43mensure_index\u001B[49m\u001B[43m(\u001B[49m\u001B[43mindex\u001B[49m\u001B[43m)\u001B[49m\n\u001B[0;32m    119\u001B[0m \u001B[38;5;66;03m# don't force copy because getting jammed in an ndarray anyway\u001B[39;00m\n\u001B[0;32m    120\u001B[0m arrays, refs \u001B[38;5;241m=\u001B[39m _homogenize(arrays, index, dtype)\n",
      "File \u001B[1;32m~\\AppData\\Roaming\\Python\\Python311\\site-packages\\pandas\\core\\indexes\\base.py:7125\u001B[0m, in \u001B[0;36mensure_index\u001B[1;34m(index_like, copy)\u001B[0m\n\u001B[0;32m   7123\u001B[0m         \u001B[38;5;28;01mreturn\u001B[39;00m Index(index_like, copy\u001B[38;5;241m=\u001B[39mcopy, tupleize_cols\u001B[38;5;241m=\u001B[39m\u001B[38;5;28;01mFalse\u001B[39;00m)\n\u001B[0;32m   7124\u001B[0m \u001B[38;5;28;01melse\u001B[39;00m:\n\u001B[1;32m-> 7125\u001B[0m     \u001B[38;5;28;01mreturn\u001B[39;00m \u001B[43mIndex\u001B[49m\u001B[43m(\u001B[49m\u001B[43mindex_like\u001B[49m\u001B[43m,\u001B[49m\u001B[43m \u001B[49m\u001B[43mcopy\u001B[49m\u001B[38;5;241;43m=\u001B[39;49m\u001B[43mcopy\u001B[49m\u001B[43m)\u001B[49m\n",
      "File \u001B[1;32m~\\AppData\\Roaming\\Python\\Python311\\site-packages\\pandas\\core\\indexes\\base.py:516\u001B[0m, in \u001B[0;36mIndex.__new__\u001B[1;34m(cls, data, dtype, copy, name, tupleize_cols)\u001B[0m\n\u001B[0;32m    513\u001B[0m         data \u001B[38;5;241m=\u001B[39m com\u001B[38;5;241m.\u001B[39masarray_tuplesafe(data, dtype\u001B[38;5;241m=\u001B[39m_dtype_obj)\n\u001B[0;32m    515\u001B[0m \u001B[38;5;28;01melif\u001B[39;00m is_scalar(data):\n\u001B[1;32m--> 516\u001B[0m     \u001B[38;5;28;01mraise\u001B[39;00m \u001B[38;5;28;43mcls\u001B[39;49m\u001B[38;5;241;43m.\u001B[39;49m\u001B[43m_raise_scalar_data_error\u001B[49m\u001B[43m(\u001B[49m\u001B[43mdata\u001B[49m\u001B[43m)\u001B[49m\n\u001B[0;32m    517\u001B[0m \u001B[38;5;28;01melif\u001B[39;00m \u001B[38;5;28mhasattr\u001B[39m(data, \u001B[38;5;124m\"\u001B[39m\u001B[38;5;124m__array__\u001B[39m\u001B[38;5;124m\"\u001B[39m):\n\u001B[0;32m    518\u001B[0m     \u001B[38;5;28;01mreturn\u001B[39;00m Index(np\u001B[38;5;241m.\u001B[39masarray(data), dtype\u001B[38;5;241m=\u001B[39mdtype, copy\u001B[38;5;241m=\u001B[39mcopy, name\u001B[38;5;241m=\u001B[39mname)\n",
      "File \u001B[1;32m~\\AppData\\Roaming\\Python\\Python311\\site-packages\\pandas\\core\\indexes\\base.py:5065\u001B[0m, in \u001B[0;36mIndex._raise_scalar_data_error\u001B[1;34m(cls, data)\u001B[0m\n\u001B[0;32m   5060\u001B[0m \u001B[38;5;129m@final\u001B[39m\n\u001B[0;32m   5061\u001B[0m \u001B[38;5;129m@classmethod\u001B[39m\n\u001B[0;32m   5062\u001B[0m \u001B[38;5;28;01mdef\u001B[39;00m \u001B[38;5;21m_raise_scalar_data_error\u001B[39m(\u001B[38;5;28mcls\u001B[39m, data):\n\u001B[0;32m   5063\u001B[0m     \u001B[38;5;66;03m# We return the TypeError so that we can raise it from the constructor\u001B[39;00m\n\u001B[0;32m   5064\u001B[0m     \u001B[38;5;66;03m#  in order to keep mypy happy\u001B[39;00m\n\u001B[1;32m-> 5065\u001B[0m     \u001B[38;5;28;01mraise\u001B[39;00m \u001B[38;5;167;01mTypeError\u001B[39;00m(\n\u001B[0;32m   5066\u001B[0m         \u001B[38;5;124mf\u001B[39m\u001B[38;5;124m\"\u001B[39m\u001B[38;5;132;01m{\u001B[39;00m\u001B[38;5;28mcls\u001B[39m\u001B[38;5;241m.\u001B[39m\u001B[38;5;18m__name__\u001B[39m\u001B[38;5;132;01m}\u001B[39;00m\u001B[38;5;124m(...) must be called with a collection of some \u001B[39m\u001B[38;5;124m\"\u001B[39m\n\u001B[0;32m   5067\u001B[0m         \u001B[38;5;124mf\u001B[39m\u001B[38;5;124m\"\u001B[39m\u001B[38;5;124mkind, \u001B[39m\u001B[38;5;132;01m{\u001B[39;00m\u001B[38;5;28mrepr\u001B[39m(data)\u001B[38;5;132;01m}\u001B[39;00m\u001B[38;5;124m was passed\u001B[39m\u001B[38;5;124m\"\u001B[39m\n\u001B[0;32m   5068\u001B[0m     )\n",
      "\u001B[1;31mTypeError\u001B[0m: Index(...) must be called with a collection of some kind, False was passed"
     ]
    }
   ],
   "execution_count": 36
  },
  {
   "metadata": {
    "ExecuteTime": {
     "end_time": "2024-05-26T18:16:30.518950Z",
     "start_time": "2024-05-26T18:16:30.504784Z"
    }
   },
   "cell_type": "code",
   "source": "df_train.sample(850)",
   "id": "25daa49cfa06c647",
   "outputs": [
    {
     "data": {
      "text/plain": [
       "      datetime  tmin  tmax  probarain  sun_hours  energie\n",
       "188 2022-06-07    11    22         29          6       20\n",
       "43  2022-01-13     3     8         66          3       15\n",
       "182 2022-06-01    13    21         38          8       20\n",
       "517 2023-05-02     7    17         41          5       20\n",
       "152 2022-05-02     6    16         57          4       21\n",
       "..         ...   ...   ...        ...        ...      ...\n",
       "828 2024-03-08     4    16         40          6       19\n",
       "744 2023-12-15     2     9         62          2       20\n",
       "116 2022-03-27     6    14         55          6       22\n",
       "702 2023-11-03     5    13         50          4       18\n",
       "831 2024-03-11     4    17         41          5       19\n",
       "\n",
       "[850 rows x 6 columns]"
      ],
      "text/html": [
       "<div>\n",
       "<style scoped>\n",
       "    .dataframe tbody tr th:only-of-type {\n",
       "        vertical-align: middle;\n",
       "    }\n",
       "\n",
       "    .dataframe tbody tr th {\n",
       "        vertical-align: top;\n",
       "    }\n",
       "\n",
       "    .dataframe thead th {\n",
       "        text-align: right;\n",
       "    }\n",
       "</style>\n",
       "<table border=\"1\" class=\"dataframe\">\n",
       "  <thead>\n",
       "    <tr style=\"text-align: right;\">\n",
       "      <th></th>\n",
       "      <th>datetime</th>\n",
       "      <th>tmin</th>\n",
       "      <th>tmax</th>\n",
       "      <th>probarain</th>\n",
       "      <th>sun_hours</th>\n",
       "      <th>energie</th>\n",
       "    </tr>\n",
       "  </thead>\n",
       "  <tbody>\n",
       "    <tr>\n",
       "      <th>188</th>\n",
       "      <td>2022-06-07</td>\n",
       "      <td>11</td>\n",
       "      <td>22</td>\n",
       "      <td>29</td>\n",
       "      <td>6</td>\n",
       "      <td>20</td>\n",
       "    </tr>\n",
       "    <tr>\n",
       "      <th>43</th>\n",
       "      <td>2022-01-13</td>\n",
       "      <td>3</td>\n",
       "      <td>8</td>\n",
       "      <td>66</td>\n",
       "      <td>3</td>\n",
       "      <td>15</td>\n",
       "    </tr>\n",
       "    <tr>\n",
       "      <th>182</th>\n",
       "      <td>2022-06-01</td>\n",
       "      <td>13</td>\n",
       "      <td>21</td>\n",
       "      <td>38</td>\n",
       "      <td>8</td>\n",
       "      <td>20</td>\n",
       "    </tr>\n",
       "    <tr>\n",
       "      <th>517</th>\n",
       "      <td>2023-05-02</td>\n",
       "      <td>7</td>\n",
       "      <td>17</td>\n",
       "      <td>41</td>\n",
       "      <td>5</td>\n",
       "      <td>20</td>\n",
       "    </tr>\n",
       "    <tr>\n",
       "      <th>152</th>\n",
       "      <td>2022-05-02</td>\n",
       "      <td>6</td>\n",
       "      <td>16</td>\n",
       "      <td>57</td>\n",
       "      <td>4</td>\n",
       "      <td>21</td>\n",
       "    </tr>\n",
       "    <tr>\n",
       "      <th>...</th>\n",
       "      <td>...</td>\n",
       "      <td>...</td>\n",
       "      <td>...</td>\n",
       "      <td>...</td>\n",
       "      <td>...</td>\n",
       "      <td>...</td>\n",
       "    </tr>\n",
       "    <tr>\n",
       "      <th>828</th>\n",
       "      <td>2024-03-08</td>\n",
       "      <td>4</td>\n",
       "      <td>16</td>\n",
       "      <td>40</td>\n",
       "      <td>6</td>\n",
       "      <td>19</td>\n",
       "    </tr>\n",
       "    <tr>\n",
       "      <th>744</th>\n",
       "      <td>2023-12-15</td>\n",
       "      <td>2</td>\n",
       "      <td>9</td>\n",
       "      <td>62</td>\n",
       "      <td>2</td>\n",
       "      <td>20</td>\n",
       "    </tr>\n",
       "    <tr>\n",
       "      <th>116</th>\n",
       "      <td>2022-03-27</td>\n",
       "      <td>6</td>\n",
       "      <td>14</td>\n",
       "      <td>55</td>\n",
       "      <td>6</td>\n",
       "      <td>22</td>\n",
       "    </tr>\n",
       "    <tr>\n",
       "      <th>702</th>\n",
       "      <td>2023-11-03</td>\n",
       "      <td>5</td>\n",
       "      <td>13</td>\n",
       "      <td>50</td>\n",
       "      <td>4</td>\n",
       "      <td>18</td>\n",
       "    </tr>\n",
       "    <tr>\n",
       "      <th>831</th>\n",
       "      <td>2024-03-11</td>\n",
       "      <td>4</td>\n",
       "      <td>17</td>\n",
       "      <td>41</td>\n",
       "      <td>5</td>\n",
       "      <td>19</td>\n",
       "    </tr>\n",
       "  </tbody>\n",
       "</table>\n",
       "<p>850 rows × 6 columns</p>\n",
       "</div>"
      ]
     },
     "execution_count": 35,
     "metadata": {},
     "output_type": "execute_result"
    }
   ],
   "execution_count": 35
  },
  {
   "metadata": {},
   "cell_type": "code",
   "source": "",
   "id": "91e835a9b1c9263e",
   "outputs": [],
   "execution_count": null
  }
 ],
 "metadata": {
  "kernelspec": {
   "display_name": "Python 3",
   "language": "python",
   "name": "python3"
  },
  "language_info": {
   "codemirror_mode": {
    "name": "ipython",
    "version": 2
   },
   "file_extension": ".py",
   "mimetype": "text/x-python",
   "name": "python",
   "nbconvert_exporter": "python",
   "pygments_lexer": "ipython2",
   "version": "2.7.6"
  }
 },
 "nbformat": 4,
 "nbformat_minor": 5
}
