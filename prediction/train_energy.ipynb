{
 "cells": [
  {
   "metadata": {},
   "cell_type": "markdown",
   "source": "",
   "id": "34c1961551ae9a53"
  },
  {
   "metadata": {
    "ExecuteTime": {
     "end_time": "2024-05-26T17:32:56.267921Z",
     "start_time": "2024-05-26T17:32:55.384245Z"
    }
   },
   "cell_type": "code",
   "source": [
    "import pandas as pd\n",
    "import numpy as np\n",
    "from datetime import datetime\n",
    "\n",
    "# Générer des dates de décembre 2021 à mars 2024\n",
    "dates = pd.date_range(start='2021-12-01', end='2024-03-31', freq='D')\n",
    "\n",
    "# Afficher un échantillon des dates générées\n",
    "print(\"Échantillon des dates générées :\")\n",
    "print(dates.sample(10))\n"
   ],
   "id": "82d16505501493ab",
   "outputs": [
    {
     "name": "stdout",
     "output_type": "stream",
     "text": [
      "Échantillon des dates générées :\n"
     ]
    },
    {
     "ename": "AttributeError",
     "evalue": "'DatetimeIndex' object has no attribute 'sample'",
     "output_type": "error",
     "traceback": [
      "\u001B[1;31m---------------------------------------------------------------------------\u001B[0m",
      "\u001B[1;31mAttributeError\u001B[0m                            Traceback (most recent call last)",
      "Cell \u001B[1;32mIn[2], line 10\u001B[0m\n\u001B[0;32m      8\u001B[0m \u001B[38;5;66;03m# Afficher un échantillon des dates générées\u001B[39;00m\n\u001B[0;32m      9\u001B[0m \u001B[38;5;28mprint\u001B[39m(\u001B[38;5;124m\"\u001B[39m\u001B[38;5;124mÉchantillon des dates générées :\u001B[39m\u001B[38;5;124m\"\u001B[39m)\n\u001B[1;32m---> 10\u001B[0m \u001B[38;5;28mprint\u001B[39m(\u001B[43mdates\u001B[49m\u001B[38;5;241;43m.\u001B[39;49m\u001B[43msample\u001B[49m(\u001B[38;5;241m10\u001B[39m))\n",
      "\u001B[1;31mAttributeError\u001B[0m: 'DatetimeIndex' object has no attribute 'sample'"
     ]
    }
   ],
   "execution_count": 2
  },
  {
   "metadata": {
    "ExecuteTime": {
     "end_time": "2024-05-26T17:30:36.192106Z",
     "start_time": "2024-05-26T17:30:35.881215Z"
    }
   },
   "cell_type": "code",
   "source": [
    "import pandas as pd\n",
    "\n",
    "# Définir les saisons\n",
    "saisons = {\n",
    "    \"hiver\": {\"tmin\": 2, \"tmax\": 9, \"probarain\": 70, \"sun_hours\": 2},\n",
    "    \"printemps\": {\"tmin\": 6, \"tmax\": 16, \"probarain\": 50, \"sun_hours\": 6},\n",
    "    \"été\": {\"tmin\": 12, \"tmax\": 22, \"probarain\": 30, \"sun_hours\": 8},\n",
    "    \"automne\": {\"tmin\": 6, \"tmax\": 15, \"probarain\": 60, \"sun_hours\": 4}\n",
    "}\n",
    "\n",
    "# Fonction pour obtenir la saison à partir de la date\n",
    "def get_saison(date):\n",
    "    if date.month in [12, 1, 2]:\n",
    "        return \"hiver\"\n",
    "    elif date.month in [3, 4, 5]:\n",
    "        return \"printemps\"\n",
    "    elif date.month in [6, 7, 8]:\n",
    "        return \"été\"\n",
    "    else:\n",
    "        return \"automne\"\n",
    "\n",
    "# Fonction pour simuler les données météorologiques pour une date donnée\n",
    "def simuler_meteo(date):\n",
    "    saison = get_saison(date)\n",
    "    valeurs_saison = saisons[saison]\n",
    "    tmin = np.random.randint(valeurs_saison[\"tmin\"] - 2, valeurs_saison[\"tmin\"] + 2)\n",
    "    tmax = np.random.randint(valeurs_saison[\"tmax\"] - 2, valeurs_saison[\"tmax\"] + 2)\n",
    "    probarain = np.random.randint(valeurs_saison[\"probarain\"] - 10, valeurs_saison[\"probarain\"] + 10)\n",
    "    sun_hours = np.random.randint(valeurs_saison[\"sun_hours\"] - 2, valeurs_saison[\"sun_hours\"] + 2)\n",
    "    return tmin, tmax, probarain, sun_hours\n",
    "\n",
    "# Simuler les données météorologiques pour chaque date\n",
    "donnees_meteo = []\n",
    "for date in dates:\n",
    "    tmin, tmax, probarain, sun_hours = simuler_meteo(date)\n",
    "    donnees_meteo.append({\n",
    "        \"datetime\": date,\n",
    "        \"tmin\": tmin,\n",
    "        \"tmax\": tmax,\n",
    "        \"probarain\": probarain,\n",
    "        \"sun_hours\": sun_hours\n",
    "    })\n",
    "\n",
    "# Créer un DataFrame à partir des données météorologiques simulées\n",
    "df_meteo = pd.DataFrame(donnees_meteo)\n",
    "\n",
    "# Afficher un échantillon des données météorologiques simulées\n",
    "print(\"Échantillon des données météorologiques simulées :\")\n",
    "print(df_meteo.sample(10))\n"
   ],
   "id": "600340c2bfd2dc49",
   "outputs": [
    {
     "ename": "NameError",
     "evalue": "name 'dates' is not defined",
     "output_type": "error",
     "traceback": [
      "\u001B[1;31m---------------------------------------------------------------------------\u001B[0m",
      "\u001B[1;31mNameError\u001B[0m                                 Traceback (most recent call last)",
      "Cell \u001B[1;32mIn[1], line 32\u001B[0m\n\u001B[0;32m     30\u001B[0m \u001B[38;5;66;03m# Simuler les données météorologiques pour chaque date\u001B[39;00m\n\u001B[0;32m     31\u001B[0m donnees_meteo \u001B[38;5;241m=\u001B[39m []\n\u001B[1;32m---> 32\u001B[0m \u001B[38;5;28;01mfor\u001B[39;00m date \u001B[38;5;129;01min\u001B[39;00m \u001B[43mdates\u001B[49m:\n\u001B[0;32m     33\u001B[0m     tmin, tmax, probarain, sun_hours \u001B[38;5;241m=\u001B[39m simuler_meteo(date)\n\u001B[0;32m     34\u001B[0m     donnees_meteo\u001B[38;5;241m.\u001B[39mappend({\n\u001B[0;32m     35\u001B[0m         \u001B[38;5;124m\"\u001B[39m\u001B[38;5;124mdatetime\u001B[39m\u001B[38;5;124m\"\u001B[39m: date,\n\u001B[0;32m     36\u001B[0m         \u001B[38;5;124m\"\u001B[39m\u001B[38;5;124mtmin\u001B[39m\u001B[38;5;124m\"\u001B[39m: tmin,\n\u001B[1;32m   (...)\u001B[0m\n\u001B[0;32m     39\u001B[0m         \u001B[38;5;124m\"\u001B[39m\u001B[38;5;124msun_hours\u001B[39m\u001B[38;5;124m\"\u001B[39m: sun_hours\n\u001B[0;32m     40\u001B[0m     })\n",
      "\u001B[1;31mNameError\u001B[0m: name 'dates' is not defined"
     ]
    }
   ],
   "execution_count": 1
  },
  {
   "metadata": {
    "ExecuteTime": {
     "end_time": "2024-05-26T17:30:36.194130Z",
     "start_time": "2024-05-26T17:30:36.193118Z"
    }
   },
   "cell_type": "code",
   "source": "",
   "id": "70fa7aa14404c187",
   "outputs": [],
   "execution_count": null
  },
  {
   "metadata": {},
   "cell_type": "code",
   "outputs": [],
   "execution_count": null,
   "source": "",
   "id": "25daa49cfa06c647"
  }
 ],
 "metadata": {
  "kernelspec": {
   "display_name": "Python 3",
   "language": "python",
   "name": "python3"
  },
  "language_info": {
   "codemirror_mode": {
    "name": "ipython",
    "version": 2
   },
   "file_extension": ".py",
   "mimetype": "text/x-python",
   "name": "python",
   "nbconvert_exporter": "python",
   "pygments_lexer": "ipython2",
   "version": "2.7.6"
  }
 },
 "nbformat": 4,
 "nbformat_minor": 5
}
