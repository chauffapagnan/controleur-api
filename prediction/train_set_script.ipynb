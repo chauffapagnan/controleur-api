{
 "cells": [
  {
   "metadata": {},
   "cell_type": "markdown",
   "source": "",
   "id": "34c1961551ae9a53"
  },
  {
   "metadata": {
    "ExecuteTime": {
     "end_time": "2024-05-26T21:36:07.373341Z",
     "start_time": "2024-05-26T21:36:07.367386Z"
    }
   },
   "cell_type": "code",
   "source": [
    "import random\n",
    "import pandas as pd\n",
    "import numpy as np\n",
    "from datetime import datetime\n",
    "\n",
    "# Générer des dates de décembre 2021 à mars 2024\n",
    "dates = pd.date_range(start='2021-12-01', end='2024-03-31', freq='D')\n"
   ],
   "id": "82d16505501493ab",
   "outputs": [],
   "execution_count": 58
  },
  {
   "metadata": {
    "ExecuteTime": {
     "end_time": "2024-05-26T21:36:07.422385Z",
     "start_time": "2024-05-26T21:36:07.415353Z"
    }
   },
   "cell_type": "code",
   "source": [
    "# Définir les saisons\n",
    "saisons = {\n",
    "    \"hiver\": {\"tmin\": 2, \"tmax\": 9, \"probarain\": 70, \"sun_hours\": 2},\n",
    "    \"printemps\": {\"tmin\": 6, \"tmax\": 16, \"probarain\": 50, \"sun_hours\": 6},\n",
    "    \"été\": {\"tmin\": 12, \"tmax\": 22, \"probarain\": 30, \"sun_hours\": 8},\n",
    "    \"automne\": {\"tmin\": 6, \"tmax\": 15, \"probarain\": 60, \"sun_hours\": 4}\n",
    "}\n",
    "\n",
    "# Fonction pour obtenir la saison à partir de la date\n",
    "def get_saison(date):\n",
    "    if date.month in [12, 1, 2]:\n",
    "        return \"hiver\"\n",
    "    elif date.month in [3, 4, 5]:\n",
    "        return \"printemps\"\n",
    "    elif date.month in [6, 7, 8]:\n",
    "        return \"été\"\n",
    "    else:\n",
    "        return \"automne\"\n",
    "\n",
    "# Fonction pour simuler les données météorologiques pour une date donnée\n",
    "def simuler_meteo(date):\n",
    "    saison = get_saison(date)\n",
    "    valeurs_saison = saisons[saison]\n",
    "    tmin = np.random.randint(valeurs_saison[\"tmin\"] - 2, valeurs_saison[\"tmin\"] + 2)\n",
    "    tmax = np.random.randint(valeurs_saison[\"tmax\"] - 2, valeurs_saison[\"tmax\"] + 2)\n",
    "    probarain = np.random.randint(valeurs_saison[\"probarain\"] - 10, valeurs_saison[\"probarain\"] + 10)\n",
    "    sun_hours = np.random.randint(valeurs_saison[\"sun_hours\"] - 2, valeurs_saison[\"sun_hours\"] + 2)\n",
    "    return tmin, tmax, probarain, sun_hours\n"
   ],
   "id": "600340c2bfd2dc49",
   "outputs": [],
   "execution_count": 59
  },
  {
   "metadata": {
    "ExecuteTime": {
     "end_time": "2024-05-26T21:36:07.447082Z",
     "start_time": "2024-05-26T21:36:07.441419Z"
    }
   },
   "cell_type": "code",
   "source": [
    "# Fonction pour simuler les données d'énergie produite par le chauffage cannette\n",
    "def simuler_energie(date):\n",
    "    saison = get_saison(date)\n",
    "    if saison == \"hiver\":\n",
    "        return np.random.randint(15, 21)\n",
    "    elif saison == \"printemps\":\n",
    "        return np.random.randint(18, 24)\n",
    "    elif saison == \"été\":\n",
    "        return np.random.randint(20, 26)\n",
    "    else:\n",
    "        return np.random.randint(16, 22)\n"
   ],
   "id": "391cdac2d8e1f597",
   "outputs": [],
   "execution_count": 60
  },
  {
   "metadata": {
    "ExecuteTime": {
     "end_time": "2024-05-26T21:36:07.488648Z",
     "start_time": "2024-05-26T21:36:07.460622Z"
    }
   },
   "cell_type": "code",
   "source": [
    "# Simuler les données météorologiques pour chaque date\n",
    "donnees_meteo = []\n",
    "for date in dates:\n",
    "    energie = simuler_energie(date)\n",
    "    tmin, tmax, probarain, sun_hours = simuler_meteo(date)\n",
    "    donnees_meteo.append({\n",
    "        \"datetime\": date,\n",
    "        \"tmin\": tmin,\n",
    "        \"tmax\": tmax,\n",
    "        \"probarain\": probarain,\n",
    "        \"sun_hours\": sun_hours,\n",
    "        \"energie\": energie\n",
    "    })\n",
    "\n",
    "# Créer un DataFrame à partir des données météorologiques simulées\n",
    "df_train = pd.DataFrame(donnees_meteo)\n",
    "# Réinitialiser les index du DataFrame sans conserver l'ancien index\n",
    "df_train = df_train.reset_index(drop=True)\n",
    "\n",
    "# Afficher un échantillon des données météorologiques simulées\n",
    "print(\"Échantillon des données météorologiques simulées :\")"
   ],
   "id": "70fa7aa14404c187",
   "outputs": [
    {
     "name": "stdout",
     "output_type": "stream",
     "text": [
      "Échantillon des données météorologiques simulées :\n"
     ]
    }
   ],
   "execution_count": 61
  },
  {
   "metadata": {
    "ExecuteTime": {
     "end_time": "2024-05-26T21:36:07.494499Z",
     "start_time": "2024-05-26T21:36:07.491682Z"
    }
   },
   "cell_type": "code",
   "source": "",
   "id": "25daa49cfa06c647",
   "outputs": [],
   "execution_count": 61
  },
  {
   "metadata": {
    "ExecuteTime": {
     "end_time": "2024-05-26T21:36:07.516679Z",
     "start_time": "2024-05-26T21:36:07.502512Z"
    }
   },
   "cell_type": "code",
   "source": "df_train",
   "id": "91e835a9b1c9263e",
   "outputs": [
    {
     "data": {
      "text/plain": [
       "      datetime  tmin  tmax  probarain  sun_hours  energie\n",
       "0   2021-12-01     2     7         60          1       16\n",
       "1   2021-12-02     0     7         61          2       19\n",
       "2   2021-12-03     1     8         70          1       19\n",
       "3   2021-12-04     2     9         76          1       16\n",
       "4   2021-12-05     3     7         74          1       16\n",
       "..         ...   ...   ...        ...        ...      ...\n",
       "847 2024-03-27     6    16         50          4       22\n",
       "848 2024-03-28     5    15         59          4       18\n",
       "849 2024-03-29     5    14         46          5       22\n",
       "850 2024-03-30     6    17         50          7       23\n",
       "851 2024-03-31     7    14         58          4       20\n",
       "\n",
       "[852 rows x 6 columns]"
      ],
      "text/html": [
       "<div>\n",
       "<style scoped>\n",
       "    .dataframe tbody tr th:only-of-type {\n",
       "        vertical-align: middle;\n",
       "    }\n",
       "\n",
       "    .dataframe tbody tr th {\n",
       "        vertical-align: top;\n",
       "    }\n",
       "\n",
       "    .dataframe thead th {\n",
       "        text-align: right;\n",
       "    }\n",
       "</style>\n",
       "<table border=\"1\" class=\"dataframe\">\n",
       "  <thead>\n",
       "    <tr style=\"text-align: right;\">\n",
       "      <th></th>\n",
       "      <th>datetime</th>\n",
       "      <th>tmin</th>\n",
       "      <th>tmax</th>\n",
       "      <th>probarain</th>\n",
       "      <th>sun_hours</th>\n",
       "      <th>energie</th>\n",
       "    </tr>\n",
       "  </thead>\n",
       "  <tbody>\n",
       "    <tr>\n",
       "      <th>0</th>\n",
       "      <td>2021-12-01</td>\n",
       "      <td>2</td>\n",
       "      <td>7</td>\n",
       "      <td>60</td>\n",
       "      <td>1</td>\n",
       "      <td>16</td>\n",
       "    </tr>\n",
       "    <tr>\n",
       "      <th>1</th>\n",
       "      <td>2021-12-02</td>\n",
       "      <td>0</td>\n",
       "      <td>7</td>\n",
       "      <td>61</td>\n",
       "      <td>2</td>\n",
       "      <td>19</td>\n",
       "    </tr>\n",
       "    <tr>\n",
       "      <th>2</th>\n",
       "      <td>2021-12-03</td>\n",
       "      <td>1</td>\n",
       "      <td>8</td>\n",
       "      <td>70</td>\n",
       "      <td>1</td>\n",
       "      <td>19</td>\n",
       "    </tr>\n",
       "    <tr>\n",
       "      <th>3</th>\n",
       "      <td>2021-12-04</td>\n",
       "      <td>2</td>\n",
       "      <td>9</td>\n",
       "      <td>76</td>\n",
       "      <td>1</td>\n",
       "      <td>16</td>\n",
       "    </tr>\n",
       "    <tr>\n",
       "      <th>4</th>\n",
       "      <td>2021-12-05</td>\n",
       "      <td>3</td>\n",
       "      <td>7</td>\n",
       "      <td>74</td>\n",
       "      <td>1</td>\n",
       "      <td>16</td>\n",
       "    </tr>\n",
       "    <tr>\n",
       "      <th>...</th>\n",
       "      <td>...</td>\n",
       "      <td>...</td>\n",
       "      <td>...</td>\n",
       "      <td>...</td>\n",
       "      <td>...</td>\n",
       "      <td>...</td>\n",
       "    </tr>\n",
       "    <tr>\n",
       "      <th>847</th>\n",
       "      <td>2024-03-27</td>\n",
       "      <td>6</td>\n",
       "      <td>16</td>\n",
       "      <td>50</td>\n",
       "      <td>4</td>\n",
       "      <td>22</td>\n",
       "    </tr>\n",
       "    <tr>\n",
       "      <th>848</th>\n",
       "      <td>2024-03-28</td>\n",
       "      <td>5</td>\n",
       "      <td>15</td>\n",
       "      <td>59</td>\n",
       "      <td>4</td>\n",
       "      <td>18</td>\n",
       "    </tr>\n",
       "    <tr>\n",
       "      <th>849</th>\n",
       "      <td>2024-03-29</td>\n",
       "      <td>5</td>\n",
       "      <td>14</td>\n",
       "      <td>46</td>\n",
       "      <td>5</td>\n",
       "      <td>22</td>\n",
       "    </tr>\n",
       "    <tr>\n",
       "      <th>850</th>\n",
       "      <td>2024-03-30</td>\n",
       "      <td>6</td>\n",
       "      <td>17</td>\n",
       "      <td>50</td>\n",
       "      <td>7</td>\n",
       "      <td>23</td>\n",
       "    </tr>\n",
       "    <tr>\n",
       "      <th>851</th>\n",
       "      <td>2024-03-31</td>\n",
       "      <td>7</td>\n",
       "      <td>14</td>\n",
       "      <td>58</td>\n",
       "      <td>4</td>\n",
       "      <td>20</td>\n",
       "    </tr>\n",
       "  </tbody>\n",
       "</table>\n",
       "<p>852 rows × 6 columns</p>\n",
       "</div>"
      ]
     },
     "execution_count": 62,
     "metadata": {},
     "output_type": "execute_result"
    }
   ],
   "execution_count": 62
  },
  {
   "metadata": {
    "ExecuteTime": {
     "end_time": "2024-05-26T21:43:56.930809Z",
     "start_time": "2024-05-26T21:43:56.920750Z"
    }
   },
   "cell_type": "code",
   "source": "df_train.duplicated(keep=False).sum()",
   "id": "f841ddf05b18e29f",
   "outputs": [
    {
     "data": {
      "text/plain": [
       "0"
      ]
     },
     "execution_count": 63,
     "metadata": {},
     "output_type": "execute_result"
    }
   ],
   "execution_count": 63
  },
  {
   "metadata": {
    "ExecuteTime": {
     "end_time": "2024-05-26T22:02:20.746452Z",
     "start_time": "2024-05-26T22:02:20.740490Z"
    }
   },
   "cell_type": "code",
   "source": "df_train['datetime'] = df_train['datetime'].dt.date",
   "id": "509fc96d1f0ec031",
   "outputs": [],
   "execution_count": 64
  },
  {
   "metadata": {
    "ExecuteTime": {
     "end_time": "2024-05-26T22:02:21.575557Z",
     "start_time": "2024-05-26T22:02:21.562635Z"
    }
   },
   "cell_type": "code",
   "source": "df_train",
   "id": "b219231d13d7c2d3",
   "outputs": [
    {
     "data": {
      "text/plain": [
       "       datetime  tmin  tmax  probarain  sun_hours  energie\n",
       "0    2021-12-01     2     7         60          1       16\n",
       "1    2021-12-02     0     7         61          2       19\n",
       "2    2021-12-03     1     8         70          1       19\n",
       "3    2021-12-04     2     9         76          1       16\n",
       "4    2021-12-05     3     7         74          1       16\n",
       "..          ...   ...   ...        ...        ...      ...\n",
       "847  2024-03-27     6    16         50          4       22\n",
       "848  2024-03-28     5    15         59          4       18\n",
       "849  2024-03-29     5    14         46          5       22\n",
       "850  2024-03-30     6    17         50          7       23\n",
       "851  2024-03-31     7    14         58          4       20\n",
       "\n",
       "[852 rows x 6 columns]"
      ],
      "text/html": [
       "<div>\n",
       "<style scoped>\n",
       "    .dataframe tbody tr th:only-of-type {\n",
       "        vertical-align: middle;\n",
       "    }\n",
       "\n",
       "    .dataframe tbody tr th {\n",
       "        vertical-align: top;\n",
       "    }\n",
       "\n",
       "    .dataframe thead th {\n",
       "        text-align: right;\n",
       "    }\n",
       "</style>\n",
       "<table border=\"1\" class=\"dataframe\">\n",
       "  <thead>\n",
       "    <tr style=\"text-align: right;\">\n",
       "      <th></th>\n",
       "      <th>datetime</th>\n",
       "      <th>tmin</th>\n",
       "      <th>tmax</th>\n",
       "      <th>probarain</th>\n",
       "      <th>sun_hours</th>\n",
       "      <th>energie</th>\n",
       "    </tr>\n",
       "  </thead>\n",
       "  <tbody>\n",
       "    <tr>\n",
       "      <th>0</th>\n",
       "      <td>2021-12-01</td>\n",
       "      <td>2</td>\n",
       "      <td>7</td>\n",
       "      <td>60</td>\n",
       "      <td>1</td>\n",
       "      <td>16</td>\n",
       "    </tr>\n",
       "    <tr>\n",
       "      <th>1</th>\n",
       "      <td>2021-12-02</td>\n",
       "      <td>0</td>\n",
       "      <td>7</td>\n",
       "      <td>61</td>\n",
       "      <td>2</td>\n",
       "      <td>19</td>\n",
       "    </tr>\n",
       "    <tr>\n",
       "      <th>2</th>\n",
       "      <td>2021-12-03</td>\n",
       "      <td>1</td>\n",
       "      <td>8</td>\n",
       "      <td>70</td>\n",
       "      <td>1</td>\n",
       "      <td>19</td>\n",
       "    </tr>\n",
       "    <tr>\n",
       "      <th>3</th>\n",
       "      <td>2021-12-04</td>\n",
       "      <td>2</td>\n",
       "      <td>9</td>\n",
       "      <td>76</td>\n",
       "      <td>1</td>\n",
       "      <td>16</td>\n",
       "    </tr>\n",
       "    <tr>\n",
       "      <th>4</th>\n",
       "      <td>2021-12-05</td>\n",
       "      <td>3</td>\n",
       "      <td>7</td>\n",
       "      <td>74</td>\n",
       "      <td>1</td>\n",
       "      <td>16</td>\n",
       "    </tr>\n",
       "    <tr>\n",
       "      <th>...</th>\n",
       "      <td>...</td>\n",
       "      <td>...</td>\n",
       "      <td>...</td>\n",
       "      <td>...</td>\n",
       "      <td>...</td>\n",
       "      <td>...</td>\n",
       "    </tr>\n",
       "    <tr>\n",
       "      <th>847</th>\n",
       "      <td>2024-03-27</td>\n",
       "      <td>6</td>\n",
       "      <td>16</td>\n",
       "      <td>50</td>\n",
       "      <td>4</td>\n",
       "      <td>22</td>\n",
       "    </tr>\n",
       "    <tr>\n",
       "      <th>848</th>\n",
       "      <td>2024-03-28</td>\n",
       "      <td>5</td>\n",
       "      <td>15</td>\n",
       "      <td>59</td>\n",
       "      <td>4</td>\n",
       "      <td>18</td>\n",
       "    </tr>\n",
       "    <tr>\n",
       "      <th>849</th>\n",
       "      <td>2024-03-29</td>\n",
       "      <td>5</td>\n",
       "      <td>14</td>\n",
       "      <td>46</td>\n",
       "      <td>5</td>\n",
       "      <td>22</td>\n",
       "    </tr>\n",
       "    <tr>\n",
       "      <th>850</th>\n",
       "      <td>2024-03-30</td>\n",
       "      <td>6</td>\n",
       "      <td>17</td>\n",
       "      <td>50</td>\n",
       "      <td>7</td>\n",
       "      <td>23</td>\n",
       "    </tr>\n",
       "    <tr>\n",
       "      <th>851</th>\n",
       "      <td>2024-03-31</td>\n",
       "      <td>7</td>\n",
       "      <td>14</td>\n",
       "      <td>58</td>\n",
       "      <td>4</td>\n",
       "      <td>20</td>\n",
       "    </tr>\n",
       "  </tbody>\n",
       "</table>\n",
       "<p>852 rows × 6 columns</p>\n",
       "</div>"
      ]
     },
     "execution_count": 65,
     "metadata": {},
     "output_type": "execute_result"
    }
   ],
   "execution_count": 65
  },
  {
   "metadata": {
    "ExecuteTime": {
     "end_time": "2024-05-26T22:09:48.820396Z",
     "start_time": "2024-05-26T22:09:48.806136Z"
    }
   },
   "cell_type": "code",
   "source": "df_train.to_csv('output/train.csv', index=False)",
   "id": "c50fa07c3e222000",
   "outputs": [],
   "execution_count": 67
  },
  {
   "metadata": {},
   "cell_type": "code",
   "outputs": [],
   "execution_count": null,
   "source": "",
   "id": "e95b656b1e4c544b"
  }
 ],
 "metadata": {
  "kernelspec": {
   "display_name": "Python 3",
   "language": "python",
   "name": "python3"
  },
  "language_info": {
   "codemirror_mode": {
    "name": "ipython",
    "version": 2
   },
   "file_extension": ".py",
   "mimetype": "text/x-python",
   "name": "python",
   "nbconvert_exporter": "python",
   "pygments_lexer": "ipython2",
   "version": "2.7.6"
  }
 },
 "nbformat": 4,
 "nbformat_minor": 5
}
