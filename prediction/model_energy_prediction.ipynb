{
 "cells": [
  {
   "cell_type": "code",
   "id": "initial_id",
   "metadata": {
    "collapsed": true,
    "ExecuteTime": {
     "end_time": "2024-05-26T23:28:36.566565Z",
     "start_time": "2024-05-26T23:28:36.561275Z"
    }
   },
   "source": [
    "import matplotlib.pyplot as plt\n",
    "import numpy as np\n",
    "import pandas as pd"
   ],
   "outputs": [],
   "execution_count": 124
  },
  {
   "metadata": {
    "ExecuteTime": {
     "end_time": "2024-05-26T23:28:36.882223Z",
     "start_time": "2024-05-26T23:28:36.866547Z"
    }
   },
   "cell_type": "code",
   "source": [
    "df_train = pd.read_csv('output/train.csv')\n",
    "df_train"
   ],
   "id": "2dcf5545691c9f4b",
   "outputs": [
    {
     "data": {
      "text/plain": [
       "       datetime  tmin  tmax  probarain  sun_hours  energie\n",
       "0    2021-12-01     2     7         60          1       16\n",
       "1    2021-12-02     0     7         61          2       19\n",
       "2    2021-12-03     1     8         70          1       19\n",
       "3    2021-12-04     2     9         76          1       16\n",
       "4    2021-12-05     3     7         74          1       16\n",
       "..          ...   ...   ...        ...        ...      ...\n",
       "847  2024-03-27     6    16         50          4       22\n",
       "848  2024-03-28     5    15         59          4       18\n",
       "849  2024-03-29     5    14         46          5       22\n",
       "850  2024-03-30     6    17         50          7       23\n",
       "851  2024-03-31     7    14         58          4       20\n",
       "\n",
       "[852 rows x 6 columns]"
      ],
      "text/html": [
       "<div>\n",
       "<style scoped>\n",
       "    .dataframe tbody tr th:only-of-type {\n",
       "        vertical-align: middle;\n",
       "    }\n",
       "\n",
       "    .dataframe tbody tr th {\n",
       "        vertical-align: top;\n",
       "    }\n",
       "\n",
       "    .dataframe thead th {\n",
       "        text-align: right;\n",
       "    }\n",
       "</style>\n",
       "<table border=\"1\" class=\"dataframe\">\n",
       "  <thead>\n",
       "    <tr style=\"text-align: right;\">\n",
       "      <th></th>\n",
       "      <th>datetime</th>\n",
       "      <th>tmin</th>\n",
       "      <th>tmax</th>\n",
       "      <th>probarain</th>\n",
       "      <th>sun_hours</th>\n",
       "      <th>energie</th>\n",
       "    </tr>\n",
       "  </thead>\n",
       "  <tbody>\n",
       "    <tr>\n",
       "      <th>0</th>\n",
       "      <td>2021-12-01</td>\n",
       "      <td>2</td>\n",
       "      <td>7</td>\n",
       "      <td>60</td>\n",
       "      <td>1</td>\n",
       "      <td>16</td>\n",
       "    </tr>\n",
       "    <tr>\n",
       "      <th>1</th>\n",
       "      <td>2021-12-02</td>\n",
       "      <td>0</td>\n",
       "      <td>7</td>\n",
       "      <td>61</td>\n",
       "      <td>2</td>\n",
       "      <td>19</td>\n",
       "    </tr>\n",
       "    <tr>\n",
       "      <th>2</th>\n",
       "      <td>2021-12-03</td>\n",
       "      <td>1</td>\n",
       "      <td>8</td>\n",
       "      <td>70</td>\n",
       "      <td>1</td>\n",
       "      <td>19</td>\n",
       "    </tr>\n",
       "    <tr>\n",
       "      <th>3</th>\n",
       "      <td>2021-12-04</td>\n",
       "      <td>2</td>\n",
       "      <td>9</td>\n",
       "      <td>76</td>\n",
       "      <td>1</td>\n",
       "      <td>16</td>\n",
       "    </tr>\n",
       "    <tr>\n",
       "      <th>4</th>\n",
       "      <td>2021-12-05</td>\n",
       "      <td>3</td>\n",
       "      <td>7</td>\n",
       "      <td>74</td>\n",
       "      <td>1</td>\n",
       "      <td>16</td>\n",
       "    </tr>\n",
       "    <tr>\n",
       "      <th>...</th>\n",
       "      <td>...</td>\n",
       "      <td>...</td>\n",
       "      <td>...</td>\n",
       "      <td>...</td>\n",
       "      <td>...</td>\n",
       "      <td>...</td>\n",
       "    </tr>\n",
       "    <tr>\n",
       "      <th>847</th>\n",
       "      <td>2024-03-27</td>\n",
       "      <td>6</td>\n",
       "      <td>16</td>\n",
       "      <td>50</td>\n",
       "      <td>4</td>\n",
       "      <td>22</td>\n",
       "    </tr>\n",
       "    <tr>\n",
       "      <th>848</th>\n",
       "      <td>2024-03-28</td>\n",
       "      <td>5</td>\n",
       "      <td>15</td>\n",
       "      <td>59</td>\n",
       "      <td>4</td>\n",
       "      <td>18</td>\n",
       "    </tr>\n",
       "    <tr>\n",
       "      <th>849</th>\n",
       "      <td>2024-03-29</td>\n",
       "      <td>5</td>\n",
       "      <td>14</td>\n",
       "      <td>46</td>\n",
       "      <td>5</td>\n",
       "      <td>22</td>\n",
       "    </tr>\n",
       "    <tr>\n",
       "      <th>850</th>\n",
       "      <td>2024-03-30</td>\n",
       "      <td>6</td>\n",
       "      <td>17</td>\n",
       "      <td>50</td>\n",
       "      <td>7</td>\n",
       "      <td>23</td>\n",
       "    </tr>\n",
       "    <tr>\n",
       "      <th>851</th>\n",
       "      <td>2024-03-31</td>\n",
       "      <td>7</td>\n",
       "      <td>14</td>\n",
       "      <td>58</td>\n",
       "      <td>4</td>\n",
       "      <td>20</td>\n",
       "    </tr>\n",
       "  </tbody>\n",
       "</table>\n",
       "<p>852 rows × 6 columns</p>\n",
       "</div>"
      ]
     },
     "execution_count": 125,
     "metadata": {},
     "output_type": "execute_result"
    }
   ],
   "execution_count": 125
  },
  {
   "metadata": {
    "ExecuteTime": {
     "end_time": "2024-05-26T23:28:36.947530Z",
     "start_time": "2024-05-26T23:28:36.942234Z"
    }
   },
   "cell_type": "code",
   "source": [
    "X_train = df_train.drop(columns=['energie', 'datetime'])\n",
    "y_train = df_train['energie']"
   ],
   "id": "898ac2392cc7a691",
   "outputs": [],
   "execution_count": 126
  },
  {
   "metadata": {
    "ExecuteTime": {
     "end_time": "2024-05-26T23:28:37.027413Z",
     "start_time": "2024-05-26T23:28:37.014026Z"
    }
   },
   "cell_type": "code",
   "source": [
    "df_test = pd.read_csv('output/test.csv')\n",
    "colonnes_utiles = X_train.columns\n",
    "df_test = df_test[colonnes_utiles]\n",
    "df_test"
   ],
   "id": "6c844430108f0c2",
   "outputs": [
    {
     "data": {
      "text/plain": [
       "   tmin  tmax  probarain  sun_hours\n",
       "0    10    17         60          4\n",
       "1    11    19         50          3\n",
       "2    13    19         50          3\n",
       "3    11    16         60          6\n",
       "4     9    16         60          8\n",
       "5     9    16         60          8\n",
       "6     9    17         60          8"
      ],
      "text/html": [
       "<div>\n",
       "<style scoped>\n",
       "    .dataframe tbody tr th:only-of-type {\n",
       "        vertical-align: middle;\n",
       "    }\n",
       "\n",
       "    .dataframe tbody tr th {\n",
       "        vertical-align: top;\n",
       "    }\n",
       "\n",
       "    .dataframe thead th {\n",
       "        text-align: right;\n",
       "    }\n",
       "</style>\n",
       "<table border=\"1\" class=\"dataframe\">\n",
       "  <thead>\n",
       "    <tr style=\"text-align: right;\">\n",
       "      <th></th>\n",
       "      <th>tmin</th>\n",
       "      <th>tmax</th>\n",
       "      <th>probarain</th>\n",
       "      <th>sun_hours</th>\n",
       "    </tr>\n",
       "  </thead>\n",
       "  <tbody>\n",
       "    <tr>\n",
       "      <th>0</th>\n",
       "      <td>10</td>\n",
       "      <td>17</td>\n",
       "      <td>60</td>\n",
       "      <td>4</td>\n",
       "    </tr>\n",
       "    <tr>\n",
       "      <th>1</th>\n",
       "      <td>11</td>\n",
       "      <td>19</td>\n",
       "      <td>50</td>\n",
       "      <td>3</td>\n",
       "    </tr>\n",
       "    <tr>\n",
       "      <th>2</th>\n",
       "      <td>13</td>\n",
       "      <td>19</td>\n",
       "      <td>50</td>\n",
       "      <td>3</td>\n",
       "    </tr>\n",
       "    <tr>\n",
       "      <th>3</th>\n",
       "      <td>11</td>\n",
       "      <td>16</td>\n",
       "      <td>60</td>\n",
       "      <td>6</td>\n",
       "    </tr>\n",
       "    <tr>\n",
       "      <th>4</th>\n",
       "      <td>9</td>\n",
       "      <td>16</td>\n",
       "      <td>60</td>\n",
       "      <td>8</td>\n",
       "    </tr>\n",
       "    <tr>\n",
       "      <th>5</th>\n",
       "      <td>9</td>\n",
       "      <td>16</td>\n",
       "      <td>60</td>\n",
       "      <td>8</td>\n",
       "    </tr>\n",
       "    <tr>\n",
       "      <th>6</th>\n",
       "      <td>9</td>\n",
       "      <td>17</td>\n",
       "      <td>60</td>\n",
       "      <td>8</td>\n",
       "    </tr>\n",
       "  </tbody>\n",
       "</table>\n",
       "</div>"
      ]
     },
     "execution_count": 127,
     "metadata": {},
     "output_type": "execute_result"
    }
   ],
   "execution_count": 127
  },
  {
   "metadata": {
    "ExecuteTime": {
     "end_time": "2024-05-26T23:28:37.149711Z",
     "start_time": "2024-05-26T23:28:37.140971Z"
    }
   },
   "cell_type": "code",
   "source": "df_train.shape",
   "id": "5a1d4a9f4208870d",
   "outputs": [
    {
     "data": {
      "text/plain": [
       "(852, 6)"
      ]
     },
     "execution_count": 128,
     "metadata": {},
     "output_type": "execute_result"
    }
   ],
   "execution_count": 128
  },
  {
   "metadata": {
    "ExecuteTime": {
     "end_time": "2024-05-26T23:28:37.367794Z",
     "start_time": "2024-05-26T23:28:37.361076Z"
    }
   },
   "cell_type": "code",
   "source": "df_test.shape",
   "id": "cd04b041d4578daf",
   "outputs": [
    {
     "data": {
      "text/plain": [
       "(7, 4)"
      ]
     },
     "execution_count": 129,
     "metadata": {},
     "output_type": "execute_result"
    }
   ],
   "execution_count": 129
  },
  {
   "metadata": {},
   "cell_type": "markdown",
   "source": "# MODELISATION",
   "id": "94e93ccbfe38b807"
  },
  {
   "metadata": {},
   "cell_type": "markdown",
   "source": [
    "Quelques modèles que nous pouvons utiliser sont :\n",
    "- Regression linéaire\n",
    "- Bagging\n",
    "- Boosting"
   ],
   "id": "2273204454a30f62"
  },
  {
   "metadata": {},
   "cell_type": "markdown",
   "source": "",
   "id": "32b542cbd3e8cc61"
  },
  {
   "metadata": {
    "ExecuteTime": {
     "end_time": "2024-05-26T23:28:37.442779Z",
     "start_time": "2024-05-26T23:28:37.438827Z"
    }
   },
   "cell_type": "code",
   "source": "scores_models = {} # pour comparer les models et techniques",
   "id": "f24fd456e1fac834",
   "outputs": [],
   "execution_count": 130
  },
  {
   "metadata": {},
   "cell_type": "markdown",
   "source": "### Regression Linéaire",
   "id": "688b4c2a4a05f2a8"
  },
  {
   "metadata": {
    "ExecuteTime": {
     "end_time": "2024-05-26T23:28:37.650367Z",
     "start_time": "2024-05-26T23:28:37.644913Z"
    }
   },
   "cell_type": "code",
   "source": [
    "import seaborn as sns\n",
    "from matplotlib import pyplot"
   ],
   "id": "9f82ccbf36554e1f",
   "outputs": [],
   "execution_count": 131
  },
  {
   "metadata": {},
   "cell_type": "markdown",
   "source": "Entrenement du modèle",
   "id": "257616c4ead967a3"
  },
  {
   "metadata": {
    "ExecuteTime": {
     "end_time": "2024-05-26T23:28:37.728728Z",
     "start_time": "2024-05-26T23:28:37.721938Z"
    }
   },
   "cell_type": "code",
   "source": [
    "from sklearn.linear_model import LinearRegression\n",
    "from sklearn.model_selection import learning_curve\n",
    "from sklearn.metrics import f1_score, classification_report, confusion_matrix, accuracy_score"
   ],
   "id": "caa75dee3fc3a4bf",
   "outputs": [],
   "execution_count": 132
  },
  {
   "metadata": {
    "ExecuteTime": {
     "end_time": "2024-05-26T23:28:37.810684Z",
     "start_time": "2024-05-26T23:28:37.805110Z"
    }
   },
   "cell_type": "code",
   "source": "rl_model = LinearRegression()\n",
   "id": "f9667af37fd91f",
   "outputs": [],
   "execution_count": 133
  },
  {
   "metadata": {
    "ExecuteTime": {
     "end_time": "2024-05-26T23:28:37.879455Z",
     "start_time": "2024-05-26T23:28:37.867846Z"
    }
   },
   "cell_type": "code",
   "source": "rl_model.fit(X_train, y_train)",
   "id": "e61f301cc5a95264",
   "outputs": [
    {
     "data": {
      "text/plain": [
       "LinearRegression()"
      ],
      "text/html": [
       "<style>#sk-container-id-6 {\n",
       "  /* Definition of color scheme common for light and dark mode */\n",
       "  --sklearn-color-text: black;\n",
       "  --sklearn-color-line: gray;\n",
       "  /* Definition of color scheme for unfitted estimators */\n",
       "  --sklearn-color-unfitted-level-0: #fff5e6;\n",
       "  --sklearn-color-unfitted-level-1: #f6e4d2;\n",
       "  --sklearn-color-unfitted-level-2: #ffe0b3;\n",
       "  --sklearn-color-unfitted-level-3: chocolate;\n",
       "  /* Definition of color scheme for fitted estimators */\n",
       "  --sklearn-color-fitted-level-0: #f0f8ff;\n",
       "  --sklearn-color-fitted-level-1: #d4ebff;\n",
       "  --sklearn-color-fitted-level-2: #b3dbfd;\n",
       "  --sklearn-color-fitted-level-3: cornflowerblue;\n",
       "\n",
       "  /* Specific color for light theme */\n",
       "  --sklearn-color-text-on-default-background: var(--sg-text-color, var(--theme-code-foreground, var(--jp-content-font-color1, black)));\n",
       "  --sklearn-color-background: var(--sg-background-color, var(--theme-background, var(--jp-layout-color0, white)));\n",
       "  --sklearn-color-border-box: var(--sg-text-color, var(--theme-code-foreground, var(--jp-content-font-color1, black)));\n",
       "  --sklearn-color-icon: #696969;\n",
       "\n",
       "  @media (prefers-color-scheme: dark) {\n",
       "    /* Redefinition of color scheme for dark theme */\n",
       "    --sklearn-color-text-on-default-background: var(--sg-text-color, var(--theme-code-foreground, var(--jp-content-font-color1, white)));\n",
       "    --sklearn-color-background: var(--sg-background-color, var(--theme-background, var(--jp-layout-color0, #111)));\n",
       "    --sklearn-color-border-box: var(--sg-text-color, var(--theme-code-foreground, var(--jp-content-font-color1, white)));\n",
       "    --sklearn-color-icon: #878787;\n",
       "  }\n",
       "}\n",
       "\n",
       "#sk-container-id-6 {\n",
       "  color: var(--sklearn-color-text);\n",
       "}\n",
       "\n",
       "#sk-container-id-6 pre {\n",
       "  padding: 0;\n",
       "}\n",
       "\n",
       "#sk-container-id-6 input.sk-hidden--visually {\n",
       "  border: 0;\n",
       "  clip: rect(1px 1px 1px 1px);\n",
       "  clip: rect(1px, 1px, 1px, 1px);\n",
       "  height: 1px;\n",
       "  margin: -1px;\n",
       "  overflow: hidden;\n",
       "  padding: 0;\n",
       "  position: absolute;\n",
       "  width: 1px;\n",
       "}\n",
       "\n",
       "#sk-container-id-6 div.sk-dashed-wrapped {\n",
       "  border: 1px dashed var(--sklearn-color-line);\n",
       "  margin: 0 0.4em 0.5em 0.4em;\n",
       "  box-sizing: border-box;\n",
       "  padding-bottom: 0.4em;\n",
       "  background-color: var(--sklearn-color-background);\n",
       "}\n",
       "\n",
       "#sk-container-id-6 div.sk-container {\n",
       "  /* jupyter's `normalize.less` sets `[hidden] { display: none; }`\n",
       "     but bootstrap.min.css set `[hidden] { display: none !important; }`\n",
       "     so we also need the `!important` here to be able to override the\n",
       "     default hidden behavior on the sphinx rendered scikit-learn.org.\n",
       "     See: https://github.com/scikit-learn/scikit-learn/issues/21755 */\n",
       "  display: inline-block !important;\n",
       "  position: relative;\n",
       "}\n",
       "\n",
       "#sk-container-id-6 div.sk-text-repr-fallback {\n",
       "  display: none;\n",
       "}\n",
       "\n",
       "div.sk-parallel-item,\n",
       "div.sk-serial,\n",
       "div.sk-item {\n",
       "  /* draw centered vertical line to link estimators */\n",
       "  background-image: linear-gradient(var(--sklearn-color-text-on-default-background), var(--sklearn-color-text-on-default-background));\n",
       "  background-size: 2px 100%;\n",
       "  background-repeat: no-repeat;\n",
       "  background-position: center center;\n",
       "}\n",
       "\n",
       "/* Parallel-specific style estimator block */\n",
       "\n",
       "#sk-container-id-6 div.sk-parallel-item::after {\n",
       "  content: \"\";\n",
       "  width: 100%;\n",
       "  border-bottom: 2px solid var(--sklearn-color-text-on-default-background);\n",
       "  flex-grow: 1;\n",
       "}\n",
       "\n",
       "#sk-container-id-6 div.sk-parallel {\n",
       "  display: flex;\n",
       "  align-items: stretch;\n",
       "  justify-content: center;\n",
       "  background-color: var(--sklearn-color-background);\n",
       "  position: relative;\n",
       "}\n",
       "\n",
       "#sk-container-id-6 div.sk-parallel-item {\n",
       "  display: flex;\n",
       "  flex-direction: column;\n",
       "}\n",
       "\n",
       "#sk-container-id-6 div.sk-parallel-item:first-child::after {\n",
       "  align-self: flex-end;\n",
       "  width: 50%;\n",
       "}\n",
       "\n",
       "#sk-container-id-6 div.sk-parallel-item:last-child::after {\n",
       "  align-self: flex-start;\n",
       "  width: 50%;\n",
       "}\n",
       "\n",
       "#sk-container-id-6 div.sk-parallel-item:only-child::after {\n",
       "  width: 0;\n",
       "}\n",
       "\n",
       "/* Serial-specific style estimator block */\n",
       "\n",
       "#sk-container-id-6 div.sk-serial {\n",
       "  display: flex;\n",
       "  flex-direction: column;\n",
       "  align-items: center;\n",
       "  background-color: var(--sklearn-color-background);\n",
       "  padding-right: 1em;\n",
       "  padding-left: 1em;\n",
       "}\n",
       "\n",
       "\n",
       "/* Toggleable style: style used for estimator/Pipeline/ColumnTransformer box that is\n",
       "clickable and can be expanded/collapsed.\n",
       "- Pipeline and ColumnTransformer use this feature and define the default style\n",
       "- Estimators will overwrite some part of the style using the `sk-estimator` class\n",
       "*/\n",
       "\n",
       "/* Pipeline and ColumnTransformer style (default) */\n",
       "\n",
       "#sk-container-id-6 div.sk-toggleable {\n",
       "  /* Default theme specific background. It is overwritten whether we have a\n",
       "  specific estimator or a Pipeline/ColumnTransformer */\n",
       "  background-color: var(--sklearn-color-background);\n",
       "}\n",
       "\n",
       "/* Toggleable label */\n",
       "#sk-container-id-6 label.sk-toggleable__label {\n",
       "  cursor: pointer;\n",
       "  display: block;\n",
       "  width: 100%;\n",
       "  margin-bottom: 0;\n",
       "  padding: 0.5em;\n",
       "  box-sizing: border-box;\n",
       "  text-align: center;\n",
       "}\n",
       "\n",
       "#sk-container-id-6 label.sk-toggleable__label-arrow:before {\n",
       "  /* Arrow on the left of the label */\n",
       "  content: \"▸\";\n",
       "  float: left;\n",
       "  margin-right: 0.25em;\n",
       "  color: var(--sklearn-color-icon);\n",
       "}\n",
       "\n",
       "#sk-container-id-6 label.sk-toggleable__label-arrow:hover:before {\n",
       "  color: var(--sklearn-color-text);\n",
       "}\n",
       "\n",
       "/* Toggleable content - dropdown */\n",
       "\n",
       "#sk-container-id-6 div.sk-toggleable__content {\n",
       "  max-height: 0;\n",
       "  max-width: 0;\n",
       "  overflow: hidden;\n",
       "  text-align: left;\n",
       "  /* unfitted */\n",
       "  background-color: var(--sklearn-color-unfitted-level-0);\n",
       "}\n",
       "\n",
       "#sk-container-id-6 div.sk-toggleable__content.fitted {\n",
       "  /* fitted */\n",
       "  background-color: var(--sklearn-color-fitted-level-0);\n",
       "}\n",
       "\n",
       "#sk-container-id-6 div.sk-toggleable__content pre {\n",
       "  margin: 0.2em;\n",
       "  border-radius: 0.25em;\n",
       "  color: var(--sklearn-color-text);\n",
       "  /* unfitted */\n",
       "  background-color: var(--sklearn-color-unfitted-level-0);\n",
       "}\n",
       "\n",
       "#sk-container-id-6 div.sk-toggleable__content.fitted pre {\n",
       "  /* unfitted */\n",
       "  background-color: var(--sklearn-color-fitted-level-0);\n",
       "}\n",
       "\n",
       "#sk-container-id-6 input.sk-toggleable__control:checked~div.sk-toggleable__content {\n",
       "  /* Expand drop-down */\n",
       "  max-height: 200px;\n",
       "  max-width: 100%;\n",
       "  overflow: auto;\n",
       "}\n",
       "\n",
       "#sk-container-id-6 input.sk-toggleable__control:checked~label.sk-toggleable__label-arrow:before {\n",
       "  content: \"▾\";\n",
       "}\n",
       "\n",
       "/* Pipeline/ColumnTransformer-specific style */\n",
       "\n",
       "#sk-container-id-6 div.sk-label input.sk-toggleable__control:checked~label.sk-toggleable__label {\n",
       "  color: var(--sklearn-color-text);\n",
       "  background-color: var(--sklearn-color-unfitted-level-2);\n",
       "}\n",
       "\n",
       "#sk-container-id-6 div.sk-label.fitted input.sk-toggleable__control:checked~label.sk-toggleable__label {\n",
       "  background-color: var(--sklearn-color-fitted-level-2);\n",
       "}\n",
       "\n",
       "/* Estimator-specific style */\n",
       "\n",
       "/* Colorize estimator box */\n",
       "#sk-container-id-6 div.sk-estimator input.sk-toggleable__control:checked~label.sk-toggleable__label {\n",
       "  /* unfitted */\n",
       "  background-color: var(--sklearn-color-unfitted-level-2);\n",
       "}\n",
       "\n",
       "#sk-container-id-6 div.sk-estimator.fitted input.sk-toggleable__control:checked~label.sk-toggleable__label {\n",
       "  /* fitted */\n",
       "  background-color: var(--sklearn-color-fitted-level-2);\n",
       "}\n",
       "\n",
       "#sk-container-id-6 div.sk-label label.sk-toggleable__label,\n",
       "#sk-container-id-6 div.sk-label label {\n",
       "  /* The background is the default theme color */\n",
       "  color: var(--sklearn-color-text-on-default-background);\n",
       "}\n",
       "\n",
       "/* On hover, darken the color of the background */\n",
       "#sk-container-id-6 div.sk-label:hover label.sk-toggleable__label {\n",
       "  color: var(--sklearn-color-text);\n",
       "  background-color: var(--sklearn-color-unfitted-level-2);\n",
       "}\n",
       "\n",
       "/* Label box, darken color on hover, fitted */\n",
       "#sk-container-id-6 div.sk-label.fitted:hover label.sk-toggleable__label.fitted {\n",
       "  color: var(--sklearn-color-text);\n",
       "  background-color: var(--sklearn-color-fitted-level-2);\n",
       "}\n",
       "\n",
       "/* Estimator label */\n",
       "\n",
       "#sk-container-id-6 div.sk-label label {\n",
       "  font-family: monospace;\n",
       "  font-weight: bold;\n",
       "  display: inline-block;\n",
       "  line-height: 1.2em;\n",
       "}\n",
       "\n",
       "#sk-container-id-6 div.sk-label-container {\n",
       "  text-align: center;\n",
       "}\n",
       "\n",
       "/* Estimator-specific */\n",
       "#sk-container-id-6 div.sk-estimator {\n",
       "  font-family: monospace;\n",
       "  border: 1px dotted var(--sklearn-color-border-box);\n",
       "  border-radius: 0.25em;\n",
       "  box-sizing: border-box;\n",
       "  margin-bottom: 0.5em;\n",
       "  /* unfitted */\n",
       "  background-color: var(--sklearn-color-unfitted-level-0);\n",
       "}\n",
       "\n",
       "#sk-container-id-6 div.sk-estimator.fitted {\n",
       "  /* fitted */\n",
       "  background-color: var(--sklearn-color-fitted-level-0);\n",
       "}\n",
       "\n",
       "/* on hover */\n",
       "#sk-container-id-6 div.sk-estimator:hover {\n",
       "  /* unfitted */\n",
       "  background-color: var(--sklearn-color-unfitted-level-2);\n",
       "}\n",
       "\n",
       "#sk-container-id-6 div.sk-estimator.fitted:hover {\n",
       "  /* fitted */\n",
       "  background-color: var(--sklearn-color-fitted-level-2);\n",
       "}\n",
       "\n",
       "/* Specification for estimator info (e.g. \"i\" and \"?\") */\n",
       "\n",
       "/* Common style for \"i\" and \"?\" */\n",
       "\n",
       ".sk-estimator-doc-link,\n",
       "a:link.sk-estimator-doc-link,\n",
       "a:visited.sk-estimator-doc-link {\n",
       "  float: right;\n",
       "  font-size: smaller;\n",
       "  line-height: 1em;\n",
       "  font-family: monospace;\n",
       "  background-color: var(--sklearn-color-background);\n",
       "  border-radius: 1em;\n",
       "  height: 1em;\n",
       "  width: 1em;\n",
       "  text-decoration: none !important;\n",
       "  margin-left: 1ex;\n",
       "  /* unfitted */\n",
       "  border: var(--sklearn-color-unfitted-level-1) 1pt solid;\n",
       "  color: var(--sklearn-color-unfitted-level-1);\n",
       "}\n",
       "\n",
       ".sk-estimator-doc-link.fitted,\n",
       "a:link.sk-estimator-doc-link.fitted,\n",
       "a:visited.sk-estimator-doc-link.fitted {\n",
       "  /* fitted */\n",
       "  border: var(--sklearn-color-fitted-level-1) 1pt solid;\n",
       "  color: var(--sklearn-color-fitted-level-1);\n",
       "}\n",
       "\n",
       "/* On hover */\n",
       "div.sk-estimator:hover .sk-estimator-doc-link:hover,\n",
       ".sk-estimator-doc-link:hover,\n",
       "div.sk-label-container:hover .sk-estimator-doc-link:hover,\n",
       ".sk-estimator-doc-link:hover {\n",
       "  /* unfitted */\n",
       "  background-color: var(--sklearn-color-unfitted-level-3);\n",
       "  color: var(--sklearn-color-background);\n",
       "  text-decoration: none;\n",
       "}\n",
       "\n",
       "div.sk-estimator.fitted:hover .sk-estimator-doc-link.fitted:hover,\n",
       ".sk-estimator-doc-link.fitted:hover,\n",
       "div.sk-label-container:hover .sk-estimator-doc-link.fitted:hover,\n",
       ".sk-estimator-doc-link.fitted:hover {\n",
       "  /* fitted */\n",
       "  background-color: var(--sklearn-color-fitted-level-3);\n",
       "  color: var(--sklearn-color-background);\n",
       "  text-decoration: none;\n",
       "}\n",
       "\n",
       "/* Span, style for the box shown on hovering the info icon */\n",
       ".sk-estimator-doc-link span {\n",
       "  display: none;\n",
       "  z-index: 9999;\n",
       "  position: relative;\n",
       "  font-weight: normal;\n",
       "  right: .2ex;\n",
       "  padding: .5ex;\n",
       "  margin: .5ex;\n",
       "  width: min-content;\n",
       "  min-width: 20ex;\n",
       "  max-width: 50ex;\n",
       "  color: var(--sklearn-color-text);\n",
       "  box-shadow: 2pt 2pt 4pt #999;\n",
       "  /* unfitted */\n",
       "  background: var(--sklearn-color-unfitted-level-0);\n",
       "  border: .5pt solid var(--sklearn-color-unfitted-level-3);\n",
       "}\n",
       "\n",
       ".sk-estimator-doc-link.fitted span {\n",
       "  /* fitted */\n",
       "  background: var(--sklearn-color-fitted-level-0);\n",
       "  border: var(--sklearn-color-fitted-level-3);\n",
       "}\n",
       "\n",
       ".sk-estimator-doc-link:hover span {\n",
       "  display: block;\n",
       "}\n",
       "\n",
       "/* \"?\"-specific style due to the `<a>` HTML tag */\n",
       "\n",
       "#sk-container-id-6 a.estimator_doc_link {\n",
       "  float: right;\n",
       "  font-size: 1rem;\n",
       "  line-height: 1em;\n",
       "  font-family: monospace;\n",
       "  background-color: var(--sklearn-color-background);\n",
       "  border-radius: 1rem;\n",
       "  height: 1rem;\n",
       "  width: 1rem;\n",
       "  text-decoration: none;\n",
       "  /* unfitted */\n",
       "  color: var(--sklearn-color-unfitted-level-1);\n",
       "  border: var(--sklearn-color-unfitted-level-1) 1pt solid;\n",
       "}\n",
       "\n",
       "#sk-container-id-6 a.estimator_doc_link.fitted {\n",
       "  /* fitted */\n",
       "  border: var(--sklearn-color-fitted-level-1) 1pt solid;\n",
       "  color: var(--sklearn-color-fitted-level-1);\n",
       "}\n",
       "\n",
       "/* On hover */\n",
       "#sk-container-id-6 a.estimator_doc_link:hover {\n",
       "  /* unfitted */\n",
       "  background-color: var(--sklearn-color-unfitted-level-3);\n",
       "  color: var(--sklearn-color-background);\n",
       "  text-decoration: none;\n",
       "}\n",
       "\n",
       "#sk-container-id-6 a.estimator_doc_link.fitted:hover {\n",
       "  /* fitted */\n",
       "  background-color: var(--sklearn-color-fitted-level-3);\n",
       "}\n",
       "</style><div id=\"sk-container-id-6\" class=\"sk-top-container\"><div class=\"sk-text-repr-fallback\"><pre>LinearRegression()</pre><b>In a Jupyter environment, please rerun this cell to show the HTML representation or trust the notebook. <br />On GitHub, the HTML representation is unable to render, please try loading this page with nbviewer.org.</b></div><div class=\"sk-container\" hidden><div class=\"sk-item\"><div class=\"sk-estimator fitted sk-toggleable\"><input class=\"sk-toggleable__control sk-hidden--visually\" id=\"sk-estimator-id-6\" type=\"checkbox\" checked><label for=\"sk-estimator-id-6\" class=\"sk-toggleable__label fitted sk-toggleable__label-arrow fitted\">&nbsp;&nbsp;LinearRegression<a class=\"sk-estimator-doc-link fitted\" rel=\"noreferrer\" target=\"_blank\" href=\"https://scikit-learn.org/1.4/modules/generated/sklearn.linear_model.LinearRegression.html\">?<span>Documentation for LinearRegression</span></a><span class=\"sk-estimator-doc-link fitted\">i<span>Fitted</span></span></label><div class=\"sk-toggleable__content fitted\"><pre>LinearRegression()</pre></div> </div></div></div></div>"
      ]
     },
     "execution_count": 134,
     "metadata": {},
     "output_type": "execute_result"
    }
   ],
   "execution_count": 134
  },
  {
   "metadata": {
    "ExecuteTime": {
     "end_time": "2024-05-26T23:28:37.970428Z",
     "start_time": "2024-05-26T23:28:37.965008Z"
    }
   },
   "cell_type": "code",
   "source": [
    "from sklearn.linear_model import LinearRegression\n",
    "from sklearn.model_selection import train_test_split\n",
    "from sklearn.metrics import mean_squared_error\n",
    "from sklearn.metrics import r2_score"
   ],
   "id": "4766e40e75e46e7a",
   "outputs": [],
   "execution_count": 135
  },
  {
   "metadata": {
    "ExecuteTime": {
     "end_time": "2024-05-26T23:28:38.046756Z",
     "start_time": "2024-05-26T23:28:38.037460Z"
    }
   },
   "cell_type": "code",
   "source": [
    "y_pred = rl_model.predict(X_train)\n",
    "mse = mean_squared_error(y_train,y_pred)\n",
    "r2 = r2_score(y_train,y_pred)\n",
    "print(\"Mean Squared Error:\", mse)\n",
    "print(\"R^2 Score:\", r2)"
   ],
   "id": "a262dafba2d26856",
   "outputs": [
    {
     "name": "stdout",
     "output_type": "stream",
     "text": [
      "Mean Squared Error: 3.1809051212510675\n",
      "R^2 Score: 0.5408781353154835\n"
     ]
    }
   ],
   "execution_count": 136
  },
  {
   "metadata": {
    "ExecuteTime": {
     "end_time": "2024-05-26T23:28:38.152295Z",
     "start_time": "2024-05-26T23:28:38.148320Z"
    }
   },
   "cell_type": "code",
   "source": "scores_models['Reg Linéaire simple'] = r2,",
   "id": "1eceda2e494bdcf8",
   "outputs": [],
   "execution_count": 137
  },
  {
   "metadata": {
    "ExecuteTime": {
     "end_time": "2024-05-26T23:28:38.240247Z",
     "start_time": "2024-05-26T23:28:38.228842Z"
    }
   },
   "cell_type": "code",
   "source": [
    "df_score = pd.DataFrame({'Actual': y_train, 'Predicted': y_pred})\n",
    "df_score"
   ],
   "id": "39576014e9a914b7",
   "outputs": [
    {
     "data": {
      "text/plain": [
       "     Actual  Predicted\n",
       "0        16  17.368642\n",
       "1        19  17.806805\n",
       "2        19  17.120955\n",
       "3        16  16.848210\n",
       "4        16  16.438638\n",
       "..      ...        ...\n",
       "847      22  19.943143\n",
       "848      18  19.355755\n",
       "849      22  20.143761\n",
       "850      23  20.864903\n",
       "851      20  18.960150\n",
       "\n",
       "[852 rows x 2 columns]"
      ],
      "text/html": [
       "<div>\n",
       "<style scoped>\n",
       "    .dataframe tbody tr th:only-of-type {\n",
       "        vertical-align: middle;\n",
       "    }\n",
       "\n",
       "    .dataframe tbody tr th {\n",
       "        vertical-align: top;\n",
       "    }\n",
       "\n",
       "    .dataframe thead th {\n",
       "        text-align: right;\n",
       "    }\n",
       "</style>\n",
       "<table border=\"1\" class=\"dataframe\">\n",
       "  <thead>\n",
       "    <tr style=\"text-align: right;\">\n",
       "      <th></th>\n",
       "      <th>Actual</th>\n",
       "      <th>Predicted</th>\n",
       "    </tr>\n",
       "  </thead>\n",
       "  <tbody>\n",
       "    <tr>\n",
       "      <th>0</th>\n",
       "      <td>16</td>\n",
       "      <td>17.368642</td>\n",
       "    </tr>\n",
       "    <tr>\n",
       "      <th>1</th>\n",
       "      <td>19</td>\n",
       "      <td>17.806805</td>\n",
       "    </tr>\n",
       "    <tr>\n",
       "      <th>2</th>\n",
       "      <td>19</td>\n",
       "      <td>17.120955</td>\n",
       "    </tr>\n",
       "    <tr>\n",
       "      <th>3</th>\n",
       "      <td>16</td>\n",
       "      <td>16.848210</td>\n",
       "    </tr>\n",
       "    <tr>\n",
       "      <th>4</th>\n",
       "      <td>16</td>\n",
       "      <td>16.438638</td>\n",
       "    </tr>\n",
       "    <tr>\n",
       "      <th>...</th>\n",
       "      <td>...</td>\n",
       "      <td>...</td>\n",
       "    </tr>\n",
       "    <tr>\n",
       "      <th>847</th>\n",
       "      <td>22</td>\n",
       "      <td>19.943143</td>\n",
       "    </tr>\n",
       "    <tr>\n",
       "      <th>848</th>\n",
       "      <td>18</td>\n",
       "      <td>19.355755</td>\n",
       "    </tr>\n",
       "    <tr>\n",
       "      <th>849</th>\n",
       "      <td>22</td>\n",
       "      <td>20.143761</td>\n",
       "    </tr>\n",
       "    <tr>\n",
       "      <th>850</th>\n",
       "      <td>23</td>\n",
       "      <td>20.864903</td>\n",
       "    </tr>\n",
       "    <tr>\n",
       "      <th>851</th>\n",
       "      <td>20</td>\n",
       "      <td>18.960150</td>\n",
       "    </tr>\n",
       "  </tbody>\n",
       "</table>\n",
       "<p>852 rows × 2 columns</p>\n",
       "</div>"
      ]
     },
     "execution_count": 138,
     "metadata": {},
     "output_type": "execute_result"
    }
   ],
   "execution_count": 138
  },
  {
   "metadata": {
    "ExecuteTime": {
     "end_time": "2024-05-26T23:28:38.501297Z",
     "start_time": "2024-05-26T23:28:38.305818Z"
    }
   },
   "cell_type": "code",
   "source": [
    "correlation_matrix = df_score.corr()\n",
    "plt.figure(figsize=(10, 6))\n",
    "sns.heatmap(correlation_matrix, annot=True, cmap=\"coolwarm\")\n",
    "plt.title(\"Correlation Heatmap\")\n",
    "plt.show()"
   ],
   "id": "6a2425c3b9407a11",
   "outputs": [
    {
     "data": {
      "text/plain": [
       "<Figure size 1000x600 with 2 Axes>"
      ],
      "image/png": "[encoded data removed]"
     },
     "metadata": {},
     "output_type": "display_data"
    }
   ],
   "execution_count": 139
  },
  {
   "metadata": {
    "ExecuteTime": {
     "end_time": "2024-05-26T23:28:38.506844Z",
     "start_time": "2024-05-26T23:28:38.503311Z"
    }
   },
   "cell_type": "code",
   "source": "",
   "id": "30bac1705e951ac1",
   "outputs": [],
   "execution_count": 139
  },
  {
   "metadata": {},
   "cell_type": "markdown",
   "source": "## AMélioration du Model",
   "id": "105c8aa3a8bc1778"
  },
  {
   "metadata": {},
   "cell_type": "markdown",
   "source": "### Feature Engineering",
   "id": "851fd24e1aadd53e"
  },
  {
   "metadata": {
    "ExecuteTime": {
     "end_time": "2024-05-26T23:28:38.517222Z",
     "start_time": "2024-05-26T23:28:38.509874Z"
    }
   },
   "cell_type": "code",
   "source": [
    "def clean_data(X, y):\n",
    "    # Remplacer les valeurs infinies par des NaN\n",
    "    X.replace([np.inf, -np.inf], np.nan, inplace=True)\n",
    "\n",
    "    # Supprimer les lignes contenant des NaN\n",
    "    X.dropna(inplace=True)\n",
    "\n",
    "    # Aligner y avec les indices de X nettoyé\n",
    "    y = y[X.index]\n",
    "\n",
    "    return X, y"
   ],
   "id": "99ec27eff4ef4d52",
   "outputs": [],
   "execution_count": 140
  },
  {
   "metadata": {
    "ExecuteTime": {
     "end_time": "2024-05-26T23:28:38.522987Z",
     "start_time": "2024-05-26T23:28:38.519240Z"
    }
   },
   "cell_type": "code",
   "source": "",
   "id": "de01a92f8f7dd5dc",
   "outputs": [],
   "execution_count": 140
  },
  {
   "metadata": {
    "ExecuteTime": {
     "end_time": "2024-05-26T23:28:38.610275Z",
     "start_time": "2024-05-26T23:28:38.606745Z"
    }
   },
   "cell_type": "code",
   "source": "",
   "id": "81f4e038116b4093",
   "outputs": [],
   "execution_count": 140
  },
  {
   "metadata": {},
   "cell_type": "markdown",
   "source": "### Polynomial Features",
   "id": "9c90ccafe3e8a7bb"
  },
  {
   "metadata": {
    "ExecuteTime": {
     "end_time": "2024-05-26T23:28:38.746127Z",
     "start_time": "2024-05-26T23:28:38.729887Z"
    }
   },
   "cell_type": "code",
   "source": [
    "from sklearn.preprocessing import PolynomialFeatures\n",
    "\n",
    "poly = PolynomialFeatures(degree=2)\n",
    "X_train_poly = poly.fit_transform(X_train)\n",
    "\n",
    "rl_model = LinearRegression()\n",
    "rl_model.fit(X_train_poly, y_train)\n",
    "\n",
    "y_pred = rl_model.predict(X_train_poly)\n",
    "mse = mean_squared_error(y_train, y_pred)\n",
    "r2 = r2_score(y_train, y_pred)\n",
    "print(\"Mean Squared Error:\", mse)\n",
    "print(\"R^2 Score:\", r2)\n",
    "scores_models['Polynomial Features'] = np.mean(r2)"
   ],
   "id": "bff1db2c4c202688",
   "outputs": [
    {
     "name": "stdout",
     "output_type": "stream",
     "text": [
      "Mean Squared Error: 3.0984269671213296\n",
      "R^2 Score: 0.5527827732962882\n"
     ]
    }
   ],
   "execution_count": 141
  },
  {
   "metadata": {
    "ExecuteTime": {
     "end_time": "2024-05-26T23:28:38.798714Z",
     "start_time": "2024-05-26T23:28:38.794752Z"
    }
   },
   "cell_type": "code",
   "source": "",
   "id": "a1b4d2ed053a296f",
   "outputs": [],
   "execution_count": 141
  },
  {
   "metadata": {},
   "cell_type": "markdown",
   "source": "### Feature Scaling",
   "id": "ca6382f0308705ec"
  },
  {
   "metadata": {
    "ExecuteTime": {
     "end_time": "2024-05-26T23:28:38.873336Z",
     "start_time": "2024-05-26T23:28:38.855885Z"
    }
   },
   "cell_type": "code",
   "source": [
    "from sklearn.preprocessing import StandardScaler\n",
    "\n",
    "scaler = StandardScaler()\n",
    "X_train_scaled = scaler.fit_transform(X_train)\n",
    "\n",
    "rl_model = LinearRegression()\n",
    "rl_model.fit(X_train_scaled, y_train)\n",
    "\n",
    "y_pred = rl_model.predict(X_train_scaled)\n",
    "mse = mean_squared_error(y_train, y_pred)\n",
    "r2 = r2_score(y_train, y_pred)\n",
    "print(\"Mean Squared Error:\", mse)\n",
    "print(\"R^2 Score:\", r2)\n",
    "scores_models['Feature Scaling'] = np.mean(r2)\n"
   ],
   "id": "2c363726f54532e9",
   "outputs": [
    {
     "name": "stdout",
     "output_type": "stream",
     "text": [
      "Mean Squared Error: 3.1809051212510684\n",
      "R^2 Score: 0.5408781353154832\n"
     ]
    }
   ],
   "execution_count": 142
  },
  {
   "metadata": {
    "ExecuteTime": {
     "end_time": "2024-05-26T23:28:38.905966Z",
     "start_time": "2024-05-26T23:28:38.902355Z"
    }
   },
   "cell_type": "code",
   "source": "",
   "id": "c4457161719e547f",
   "outputs": [],
   "execution_count": 142
  },
  {
   "metadata": {},
   "cell_type": "markdown",
   "source": "### Regularization Techniques",
   "id": "da9046841801a0e1"
  },
  {
   "metadata": {
    "ExecuteTime": {
     "end_time": "2024-05-26T23:28:39.002706Z",
     "start_time": "2024-05-26T23:28:38.982525Z"
    }
   },
   "cell_type": "code",
   "source": [
    "from sklearn.linear_model import Ridge, Lasso\n",
    "\n",
    "# Ridge Regression\n",
    "ridge_model = Ridge(alpha=1.0)\n",
    "ridge_model.fit(X_train, y_train)\n",
    "\n",
    "y_pred_ridge = ridge_model.predict(X_train)\n",
    "mse_ridge = mean_squared_error(y_train, y_pred_ridge)\n",
    "r2_ridge = r2_score(y_train, y_pred_ridge)\n",
    "print(\"Ridge Regression - Mean Squared Error:\", mse_ridge)\n",
    "print(\"R^2 Score:\", r2_ridge)\n",
    "scores_models['Ridge Regression'] = np.mean(r2_ridge)\n",
    "\n",
    "# Lasso Regression\n",
    "lasso_model = Lasso(alpha=0.1)\n",
    "lasso_model.fit(X_train, y_train)\n",
    "\n",
    "y_pred_lasso = lasso_model.predict(X_train)\n",
    "mse_lasso = mean_squared_error(y_train, y_pred_lasso)\n",
    "r2_lasso = r2_score(y_train, y_pred_lasso)\n",
    "print(\"Lasso Regression - Mean Squared Error:\", mse_lasso)\n",
    "print(\"R^2 Score:\", r2_lasso)\n",
    "scores_models['Lasso Regression'] = np.mean(r2_lasso)\n"
   ],
   "id": "c629e218f1ce4d13",
   "outputs": [
    {
     "name": "stdout",
     "output_type": "stream",
     "text": [
      "Ridge Regression - Mean Squared Error: 3.180905199609543\n",
      "R^2 Score: 0.5408781240054669\n",
      "Lasso Regression - Mean Squared Error: 3.198222931336\n",
      "R^2 Score: 0.5383785369447782\n"
     ]
    }
   ],
   "execution_count": 143
  },
  {
   "metadata": {
    "ExecuteTime": {
     "end_time": "2024-05-26T23:28:39.049827Z",
     "start_time": "2024-05-26T23:28:39.044719Z"
    }
   },
   "cell_type": "code",
   "source": "",
   "id": "6a9020d16bb60c96",
   "outputs": [],
   "execution_count": 143
  },
  {
   "metadata": {},
   "cell_type": "markdown",
   "source": "### Cross-Validation",
   "id": "4b8b36c40d6b2cf2"
  },
  {
   "metadata": {
    "ExecuteTime": {
     "end_time": "2024-05-26T23:28:39.129334Z",
     "start_time": "2024-05-26T23:28:39.113986Z"
    }
   },
   "cell_type": "code",
   "source": [
    "from sklearn.model_selection import cross_val_score\n",
    "\n",
    "# Evaluation du modèle avec la validation croisée\n",
    "cv_scores = cross_val_score(rl_model, X_train, y_train, cv=2, scoring='r2')\n",
    "print(\"Cross-Validation R^2 Scores:\", cv_scores)\n",
    "print(\"Mean Cross-Validation R^2 Score:\", np.mean(cv_scores))\n",
    "scores_models['Cross-Validation'] = np.mean(cv_scores)"
   ],
   "id": "61e658c581f1c6aa",
   "outputs": [
    {
     "name": "stdout",
     "output_type": "stream",
     "text": [
      "Cross-Validation R^2 Scores: [0.55097117 0.51751461]\n",
      "Mean Cross-Validation R^2 Score: 0.5342428908702423\n"
     ]
    }
   ],
   "execution_count": 144
  },
  {
   "metadata": {
    "ExecuteTime": {
     "end_time": "2024-05-26T23:28:39.142451Z",
     "start_time": "2024-05-26T23:28:39.139353Z"
    }
   },
   "cell_type": "code",
   "source": "",
   "id": "6d191812e8f831ec",
   "outputs": [],
   "execution_count": 144
  },
  {
   "metadata": {},
   "cell_type": "markdown",
   "source": "### Ensemble Learning Methods",
   "id": "3dd8d65db4bbeb25"
  },
  {
   "metadata": {
    "ExecuteTime": {
     "end_time": "2024-05-26T23:28:39.585937Z",
     "start_time": "2024-05-26T23:28:39.186028Z"
    }
   },
   "cell_type": "code",
   "source": [
    "from sklearn.ensemble import RandomForestRegressor, GradientBoostingRegressor\n",
    "\n",
    "# Random Forest Regressor\n",
    "rf_model = RandomForestRegressor(n_estimators=100)\n",
    "rf_model.fit(X_train, y_train)\n",
    "\n",
    "y_pred_rf = rf_model.predict(X_train)\n",
    "mse_rf = mean_squared_error(y_train, y_pred_rf)\n",
    "r2_rf = r2_score(y_train, y_pred_rf)\n",
    "print(\"Random Forest - Mean Squared Error:\", mse_rf)\n",
    "print(\"R^2 Score:\", r2_rf)\n",
    "scores_models['Random Forest'] = r2_rf,\n",
    "\n",
    "# Gradient Boosting Regressor\n",
    "gb_model = GradientBoostingRegressor(n_estimators=100)\n",
    "gb_model.fit(X_train, y_train)\n",
    "\n",
    "y_pred_gb = gb_model.predict(X_train)\n",
    "mse_gb = mean_squared_error(y_train, y_pred_gb)\n",
    "r2_gb = r2_score(y_train, y_pred_gb)\n",
    "print(\"Gradient Boosting - Mean Squared Error:\", mse_gb)\n",
    "print(\"R^2 Score:\", r2_gb)\n",
    "scores_models['Gradient Boosting'] = r2_gb,"
   ],
   "id": "63e88951bf0bce20",
   "outputs": [
    {
     "name": "stdout",
     "output_type": "stream",
     "text": [
      "Random Forest - Mean Squared Error: 0.654818199306454\n",
      "R^2 Score: 0.9054855956921177\n",
      "Gradient Boosting - Mean Squared Error: 2.4446386922052503\n",
      "R^2 Score: 0.6471485215491899\n"
     ]
    }
   ],
   "execution_count": 145
  },
  {
   "metadata": {},
   "cell_type": "markdown",
   "source": "## VISUALISATION DU MODEL LE PLUS QUI EST BON",
   "id": "850f9507a2b46446"
  },
  {
   "metadata": {
    "ExecuteTime": {
     "end_time": "2024-05-26T23:28:39.600640Z",
     "start_time": "2024-05-26T23:28:39.592932Z"
    }
   },
   "cell_type": "code",
   "source": [
    "# on affiche notre evaluation\n",
    "scores_models"
   ],
   "id": "6f03dbe7230682fd",
   "outputs": [
    {
     "data": {
      "text/plain": [
       "{'Reg Linéaire simple': (0.5408781353154835,),\n",
       " 'Polynomial Features': 0.5527827732962882,\n",
       " 'Feature Scaling': 0.5408781353154832,\n",
       " 'Ridge Regression': 0.5408781240054669,\n",
       " 'Lasso Regression': 0.5383785369447782,\n",
       " 'Cross-Validation': 0.5342428908702423,\n",
       " 'Random Forest': (0.9054855956921177,),\n",
       " 'Gradient Boosting': (0.6471485215491899,)}"
      ]
     },
     "execution_count": 146,
     "metadata": {},
     "output_type": "execute_result"
    }
   ],
   "execution_count": 146
  },
  {
   "metadata": {
    "ExecuteTime": {
     "end_time": "2024-05-26T23:28:39.606860Z",
     "start_time": "2024-05-26T23:28:39.602667Z"
    }
   },
   "cell_type": "code",
   "source": "# on represnete le graphique",
   "id": "e573aec0faa3a00e",
   "outputs": [],
   "execution_count": 147
  },
  {
   "metadata": {
    "ExecuteTime": {
     "end_time": "2024-05-26T23:28:40.135738Z",
     "start_time": "2024-05-26T23:28:39.609884Z"
    }
   },
   "cell_type": "code",
   "source": [
    "# Convertir le dictionnaire en DataFrame\n",
    "# Extraire les valeurs si elles sont dans des tuples\n",
    "data = {'Model': [], 'R2 Score': []}\n",
    "for key, value in scores_models.items():\n",
    "    if isinstance(value, tuple):\n",
    "        value = value[0]\n",
    "    data['Model'].append(key)\n",
    "    data['R2 Score'].append(value)\n",
    "\n",
    "df_scores = pd.DataFrame(data)\n",
    "\n",
    "# Créer un graphique à barres avec Seaborn\n",
    "plt.figure(figsize=(12, 8))\n",
    "sns.barplot(x='R2 Score', y='Model', data=df_scores, palette='viridis')\n",
    "\n",
    "# Ajouter un titre et des labels\n",
    "plt.title('R2 Score des différents modèles')\n",
    "plt.xlabel('R2 Score')\n",
    "plt.ylabel('Modèle')\n",
    "\n",
    "# Afficher le graphique\n",
    "plt.show()"
   ],
   "id": "852cba1e825635a",
   "outputs": [
    {
     "name": "stderr",
     "output_type": "stream",
     "text": [
      "C:\\Users\\luis\\AppData\\Local\\Temp\\ipykernel_20136\\3144051628.py:14: FutureWarning: \n",
      "\n",
      "Passing `palette` without assigning `hue` is deprecated and will be removed in v0.14.0. Assign the `y` variable to `hue` and set `legend=False` for the same effect.\n",
      "\n",
      "  sns.barplot(x='R2 Score', y='Model', data=df_scores, palette='viridis')\n"
     ]
    },
    {
     "data": {
      "text/plain": [
       "<Figure size 1200x800 with 1 Axes>"
      ],
      "image/png": "[encoded data removed]"
     },
     "metadata": {},
     "output_type": "display_data"
    }
   ],
   "execution_count": 148
  },
  {
   "metadata": {
    "ExecuteTime": {
     "end_time": "2024-05-26T23:28:40.147262Z",
     "start_time": "2024-05-26T23:28:40.137753Z"
    }
   },
   "cell_type": "code",
   "source": "y_pred_rf_for_week = rf_model.predict(df_test)",
   "id": "dad1da2c0c6b01db",
   "outputs": [],
   "execution_count": 149
  },
  {
   "metadata": {
    "ExecuteTime": {
     "end_time": "2024-05-26T23:30:43.809079Z",
     "start_time": "2024-05-26T23:30:43.798339Z"
    }
   },
   "cell_type": "code",
   "source": [
    "df_score = pd.DataFrame({'Predicted': y_pred_rf_for_week})\n",
    "df_score"
   ],
   "id": "39e28c92b6271f7d",
   "outputs": [
    {
     "data": {
      "text/plain": [
       "   Predicted\n",
       "0    19.5600\n",
       "1    19.8000\n",
       "2    19.6900\n",
       "3    18.2575\n",
       "4    18.3775\n",
       "5    18.3775\n",
       "6    19.5900"
      ],
      "text/html": [
       "<div>\n",
       "<style scoped>\n",
       "    .dataframe tbody tr th:only-of-type {\n",
       "        vertical-align: middle;\n",
       "    }\n",
       "\n",
       "    .dataframe tbody tr th {\n",
       "        vertical-align: top;\n",
       "    }\n",
       "\n",
       "    .dataframe thead th {\n",
       "        text-align: right;\n",
       "    }\n",
       "</style>\n",
       "<table border=\"1\" class=\"dataframe\">\n",
       "  <thead>\n",
       "    <tr style=\"text-align: right;\">\n",
       "      <th></th>\n",
       "      <th>Predicted</th>\n",
       "    </tr>\n",
       "  </thead>\n",
       "  <tbody>\n",
       "    <tr>\n",
       "      <th>0</th>\n",
       "      <td>19.5600</td>\n",
       "    </tr>\n",
       "    <tr>\n",
       "      <th>1</th>\n",
       "      <td>19.8000</td>\n",
       "    </tr>\n",
       "    <tr>\n",
       "      <th>2</th>\n",
       "      <td>19.6900</td>\n",
       "    </tr>\n",
       "    <tr>\n",
       "      <th>3</th>\n",
       "      <td>18.2575</td>\n",
       "    </tr>\n",
       "    <tr>\n",
       "      <th>4</th>\n",
       "      <td>18.3775</td>\n",
       "    </tr>\n",
       "    <tr>\n",
       "      <th>5</th>\n",
       "      <td>18.3775</td>\n",
       "    </tr>\n",
       "    <tr>\n",
       "      <th>6</th>\n",
       "      <td>19.5900</td>\n",
       "    </tr>\n",
       "  </tbody>\n",
       "</table>\n",
       "</div>"
      ]
     },
     "execution_count": 150,
     "metadata": {},
     "output_type": "execute_result"
    }
   ],
   "execution_count": 150
  },
  {
   "metadata": {},
   "cell_type": "markdown",
   "source": "# VISUALISATION DE LA PREDICTION SUR LA METEO DE LA SEMAINE",
   "id": "f748e2f303366ecb"
  },
  {
   "metadata": {
    "ExecuteTime": {
     "end_time": "2024-05-26T23:38:00.574911Z",
     "start_time": "2024-05-26T23:37:59.861155Z"
    }
   },
   "cell_type": "code",
   "source": [
    "# Données de l'exemple\n",
    "data = {\n",
    "    \"Predicted\": df_score['Predicted'],\n",
    "    \"Day\": [\"Lundi\", \"Mardi\", \"Mercredi\", \"Jeudi\", \"Vendredi\", \"Samedi\", \"Dimanche\"]\n",
    "}\n",
    "\n",
    "# Créer un DataFrame à partir des données\n",
    "df = pd.DataFrame(data)\n",
    "\n",
    "# Créer le graphique en utilisant seaborn\n",
    "plt.figure(figsize=(10, 6))\n",
    "sns.barplot(x=\"Day\", y=\"Predicted\", data=df, palette=\"viridis\")\n",
    "\n",
    "# Ajouter des titres et des labels\n",
    "plt.title(\"Prédictions par jour de la semaine\")\n",
    "plt.xlabel(\"Jour de la semaine\")\n",
    "plt.ylabel(\"Prédictions\")\n",
    "\n",
    "# Afficher le graphique\n",
    "plt.xticks(rotation=45)  # Rotation des étiquettes sur l'axe x pour une meilleure lisibilité\n",
    "plt.tight_layout()  # Ajustement automatique de la disposition pour éviter la superposition du texte\n",
    "plt.show()"
   ],
   "id": "74737c9e8faae808",
   "outputs": [
    {
     "name": "stderr",
     "output_type": "stream",
     "text": [
      "C:\\Users\\luis\\AppData\\Local\\Temp\\ipykernel_20136\\4086352964.py:12: FutureWarning: \n",
      "\n",
      "Passing `palette` without assigning `hue` is deprecated and will be removed in v0.14.0. Assign the `x` variable to `hue` and set `legend=False` for the same effect.\n",
      "\n",
      "  sns.barplot(x=\"Day\", y=\"Predicted\", data=df, palette=\"viridis\")\n"
     ]
    },
    {
     "data": {
      "text/plain": [
       "<Figure size 1000x600 with 1 Axes>"
      ],
      "image/png": "[encoded data removed]"
     },
     "metadata": {},
     "output_type": "display_data"
    }
   ],
   "execution_count": 151
  },
  {
   "metadata": {},
   "cell_type": "code",
   "outputs": [],
   "execution_count": null,
   "source": "",
   "id": "e6859142351e4c41"
  }
 ],
 "metadata": {
  "kernelspec": {
   "display_name": "Python 3",
   "language": "python",
   "name": "python3"
  },
  "language_info": {
   "codemirror_mode": {
    "name": "ipython",
    "version": 2
   },
   "file_extension": ".py",
   "mimetype": "text/x-python",
   "name": "python",
   "nbconvert_exporter": "python",
   "pygments_lexer": "ipython2",
   "version": "2.7.6"
  }
 },
 "nbformat": 4,
 "nbformat_minor": 5
}
